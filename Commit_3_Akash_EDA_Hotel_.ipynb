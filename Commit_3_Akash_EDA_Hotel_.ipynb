{
  "nbformat": 4,
  "nbformat_minor": 0,
  "metadata": {
    "colab": {
      "private_outputs": true,
      "provenance": [],
      "collapsed_sections": [
        "0wOQAZs5pc--",
        "K5QZ13OEpz2H",
        "lQ7QKXXCp7Bj",
        "448CDAPjqfQr",
        "KSlN3yHqYklG",
        "t6dVpIINYklI",
        "ijmpgYnKYklI",
        "-JiQyfWJYklI",
        "EM7whBJCYoAo",
        "fge-S5ZAYoAp",
        "85gYPyotYoAp",
        "RoGjAbkUYoAp",
        "4Of9eVA-YrdM",
        "iky9q4vBYrdO",
        "F6T5p64dYrdO",
        "y-Ehk30pYrdP",
        "bamQiAODYuh1",
        "QHF8YVU7Yuh3",
        "GwzvFGzlYuh3",
        "qYpmQ266Yuh3",
        "OH-pJp9IphqM",
        "bbFf2-_FphqN",
        "_ouA3fa0phqN",
        "Seke61FWphqN",
        "PIIx-8_IphqN",
        "t27r6nlMphqO",
        "r2jJGEOYphqO",
        "b0JNsNcRphqO",
        "BZR9WyysphqO",
        "jj7wYXLtphqO",
        "eZrbJ2SmphqO",
        "rFu4xreNphqO",
        "YJ55k-q6phqO",
        "gCFgpxoyphqP",
        "OVtJsKN_phqQ",
        "lssrdh5qphqQ",
        "U2RJ9gkRphqQ",
        "1M8mcRywphqQ",
        "tgIPom80phqQ",
        "JMzcOPDDphqR",
        "x-EpHcCOp1ci",
        "X_VqEhTip1ck",
        "8zGJKyg5p1ck",
        "PVzmfK_Ep1ck",
        "n3dbpmDWp1ck",
        "ylSl6qgtp1ck",
        "ZWILFDl5p1ck",
        "M7G43BXep1ck",
        "Ag9LCva-p1cl",
        "E6MkPsBcp1cl",
        "2cELzS2fp1cl",
        "3MPXvC8up1cl",
        "NC_X3p0fY2L0",
        "UV0SzAkaZNRQ",
        "YPEH6qLeZNRQ",
        "EXh0U9oCveiU",
        "gIfDvo9L0UH2"
      ]
    },
    "kernelspec": {
      "name": "python3",
      "display_name": "Python 3"
    },
    "language_info": {
      "name": "python"
    }
  },
  "cells": [
    {
      "cell_type": "markdown",
      "source": [
        "# **Project Name**    - Hotel Booking Analysis \n",
        "\n"
      ],
      "metadata": {
        "id": "vncDsAP0Gaoa"
      }
    },
    {
      "cell_type": "markdown",
      "source": [
        "##### **Project Type**    - EDA\n",
        "##### **Contribution**    - Individual\n",
        "##### **Name**            - Akash V"
      ],
      "metadata": {
        "id": "beRrZCGUAJYm"
      }
    },
    {
      "cell_type": "markdown",
      "source": [
        "# **Project Summary -**"
      ],
      "metadata": {
        "id": "FJNUwmbgGyua"
      }
    },
    {
      "cell_type": "markdown",
      "source": [
        "The hotel booking dataset provides valuable information for analyzing hotel bookings in terms of when to book a hotel room, the optimal length of stay, and whether or not a hotel is likely to receive a disproportionately high number of special requests. This data set includes booking information for a city hotel and a resort hotel and includes data such as when the booking was made, length of stay, the number of adults, children, and/or babies, and the number of available parking spaces.\n",
        "\n",
        "The data set is useful for anyone interested in the hotel industry, including hotel managers, marketing teams, and data analysts. By analyzing the data, it is possible to gain insights into factors that govern hotel bookings, which can help inform business decisions, such as pricing strategies and marketing campaigns.\n",
        "\n",
        "One important factor to consider is the timing of bookings. The data set can be used to analyze trends in booking behavior, such as the best time of year to book a hotel room. For example, it may be found that booking a hotel room in the off-season results in lower rates, while booking during peak season results in higher rates. Additionally, the data can be used to analyze the optimal length of stay in order to get the best daily rate. This information can help inform pricing strategies and can be used to attract guests who are looking for value for their money.\n",
        "\n",
        "Another important factor to consider is the type of guest who is making the booking. The data set includes information on the number of adults, children, and/or babies, as well as the number of available parking spaces. This information can be used to analyze the types of guests who are most likely to book a hotel room, and can help inform marketing campaigns and promotions that target specific types of guests.\n",
        "\n",
        "Finally, the data set can be used to analyze the likelihood of a hotel receiving a disproportionately high number of special requests. Special requests can include anything from room upgrades to special accommodations for guests with disabilities. By analyzing the data, it may be possible to identify trends in special request behavior, which can help inform hotel policies and procedures.\n",
        "\n",
        "In conclusion, the hotel booking dataset is a valuable resource for anyone interested in the hotel industry. By analyzing the data, it is possible to gain insights into factors that govern hotel bookings, which can help inform business decisions, such as pricing strategies and marketing campaigns. Ultimately, the data set can be used to improve the guest experience and increase revenue for hotels."
      ],
      "metadata": {
        "id": "F6v_1wHtG2nS"
      }
    },
    {
      "cell_type": "markdown",
      "source": [
        "# **GitHub Link -**"
      ],
      "metadata": {
        "id": "w6K7xa23Elo4"
      }
    },
    {
      "cell_type": "markdown",
      "source": [
        " GitHub Link\n",
        "\n",
        " \n",
        " https://github.com/Akash1141/Python-Projects-EDA.git"
      ],
      "metadata": {
        "id": "h1o69JH3Eqqn"
      }
    },
    {
      "cell_type": "markdown",
      "source": [
        "# **Problem Statement**\n"
      ],
      "metadata": {
        "id": "yQaldy8SH6Dl"
      }
    },
    {
      "cell_type": "markdown",
      "source": [
        "The problem statement for the hotel booking dataset is to analyze the data to discover key factors that affect hotel bookings, such as the best time of year to book a room, the optimal length of stay, and the likelihood of a hotel receiving special requests. The goal is to gain insights that can inform pricing strategies and marketing campaigns to improve the guest experience and increase revenue for hotels.\n"
      ],
      "metadata": {
        "id": "DpeJGUA3kjGy"
      }
    },
    {
      "cell_type": "markdown",
      "source": [
        "#### **Define Your Business Objective?**"
      ],
      "metadata": {
        "id": "PH-0ReGfmX4f"
      }
    },
    {
      "cell_type": "markdown",
      "source": [
        "The objective for the hotel booking dataset are:\n",
        "\n",
        "*   To identify patterns and trends within the data to gain insights into important factors that influence hotel bookings, such as booking timing, length of stay, and special requests. By understanding these factors, \n",
        "\n",
        "*   The objective is to inform business decisions, such as pricing strategies and marketing campaigns, \n",
        "\n",
        "*   To improve the guest experience and increase revenue for hotels. \n",
        "\n",
        "*   Ultimately, the objective is to optimize hotel bookings and increase profitability for hotel businesses."
      ],
      "metadata": {
        "id": "PhDvGCAqmjP1"
      }
    },
    {
      "cell_type": "markdown",
      "source": [
        "# **General Guidelines** : -  "
      ],
      "metadata": {
        "id": "mDgbUHAGgjLW"
      }
    },
    {
      "cell_type": "markdown",
      "source": [
        "1.   Well-structured, formatted, and commented code is required. \n",
        "2.   Exception Handling, Production Grade Code & Deployment Ready Code will be a plus. Those students will be awarded some additional credits. \n",
        "     \n",
        "     The additional credits will have advantages over other students during Star Student selection.\n",
        "       \n",
        "             [ Note: - Deployment Ready Code is defined as, the whole .ipynb notebook should be executable in one go\n",
        "                       without a single error logged. ]\n",
        "\n",
        "3.   Each and every logic should have proper comments.\n",
        "4. You may add as many number of charts you want. Make Sure for each and every chart the following format should be answered.\n",
        "        \n",
        "\n",
        "```\n",
        "# Chart visualization code\n",
        "```\n",
        "            \n",
        "\n",
        "*   Why did you pick the specific chart?\n",
        "*   What is/are the insight(s) found from the chart?\n",
        "* Will the gained insights help creating a positive business impact? \n",
        "Are there any insights that lead to negative growth? Justify with specific reason.\n",
        "\n",
        "5. You have to create at least 20 logical & meaningful charts having important insights.\n",
        "\n",
        "\n",
        "[ Hints : - Do the Vizualization in  a structured way while following \"UBM\" Rule. \n",
        "\n",
        "U - Univariate Analysis,\n",
        "\n",
        "B - Bivariate Analysis (Numerical - Categorical, Numerical - Numerical, Categorical - Categorical)\n",
        "\n",
        "M - Multivariate Analysis\n",
        " ]\n",
        "\n",
        "\n",
        "\n"
      ],
      "metadata": {
        "id": "ZrxVaUj-hHfC"
      }
    },
    {
      "cell_type": "markdown",
      "source": [
        "# ***Let's Begin !***"
      ],
      "metadata": {
        "id": "O_i_v8NEhb9l"
      }
    },
    {
      "cell_type": "markdown",
      "source": [
        "## ***1. Know Your Data***"
      ],
      "metadata": {
        "id": "HhfV-JJviCcP"
      }
    },
    {
      "cell_type": "markdown",
      "source": [
        "### Import Libraries"
      ],
      "metadata": {
        "id": "Y3lxredqlCYt"
      }
    },
    {
      "cell_type": "code",
      "source": [
        "# Importing all the required Libraries\n",
        "\n",
        "import numpy as np # This imports the NumPy library and gives it the alias \"np\" for convenience.\n",
        "import pandas as pd # This imports the Pandas library and gives it the alias \"pd\" for convenience.\n",
        "from numpy import math # This imports the math module from NumPy, which provides mathematical functions and constants like pi and e.\n",
        "from numpy import loadtxt # This imports the loadtxt function from NumPy, which can be used to load data from text files.\n",
        "from sklearn.model_selection import train_test_split # this is used to split a dataset into training and testing subsets\n",
        "from sklearn.model_selection import GridSearchCV # This is used to perform hyperparameter tuning by exhaustively searching over specified parameter values for an estimator.\n",
        "import seaborn as sns # This imports the Seaborn library, which provides high-level interface for creating attractive statistical graphics.  \n",
        "\n",
        "%matplotlib inline \n",
        "# This allows plots to be displayed in the notebook itself.\n",
        "import matplotlib.pyplot as plt\n",
        "sns.set_style(\"whitegrid\",{'grid.linestyle': '--'}) # This sets the plotting style of Seaborn library to \"whitegrid\" with dashed grid lines.\n",
        "import warnings #  This line imports the warnings module, which provides a way to control warning messages.\n",
        "warnings.filterwarnings(\"ignore\") # This line sets the warning filter to \"ignore\", which suppresses all warning messages.\n"
      ],
      "metadata": {
        "id": "M8Vqi-pPk-HR"
      },
      "execution_count": null,
      "outputs": []
    },
    {
      "cell_type": "markdown",
      "source": [
        "### Dataset Loading"
      ],
      "metadata": {
        "id": "3RnN4peoiCZX"
      }
    },
    {
      "cell_type": "code",
      "source": [
        "data = \"https://raw.githubusercontent.com/Akash1141/Python-Projects-EDA/main/Hotel%20Bookings.csv\""
      ],
      "metadata": {
        "id": "GdNuZ3XfVs1b"
      },
      "execution_count": null,
      "outputs": []
    },
    {
      "cell_type": "code",
      "source": [
        "# Loading  Dataset\n",
        "df = pd.read_csv(data, encoding = \"ISO-8859-1\") # Some times while saving the CSV File the data shall be encoded, to over come this issue in future we use this label\n",
        "# encoding = \"ISO-8859-1\" when reading the file with pandas will ensure that the text is decoded properly and can be read correctly by the program."
      ],
      "metadata": {
        "id": "4CkvbW_SlZ_R"
      },
      "execution_count": null,
      "outputs": []
    },
    {
      "cell_type": "markdown",
      "source": [
        "### Dataset First View"
      ],
      "metadata": {
        "id": "x71ZqKXriCWQ"
      }
    },
    {
      "cell_type": "code",
      "source": [
        "# Dataset First Look\n",
        "df.head() # This gives the first 5 rows of the dataset"
      ],
      "metadata": {
        "id": "LWNFOSvLl09H"
      },
      "execution_count": null,
      "outputs": []
    },
    {
      "cell_type": "markdown",
      "source": [
        "### Dataset Rows & Columns count"
      ],
      "metadata": {
        "id": "7hBIi_osiCS2"
      }
    },
    {
      "cell_type": "code",
      "source": [
        "# Dataset Rows & Columns count\n",
        "df.shape # This provides the total number of rows and coloums present in the dataset"
      ],
      "metadata": {
        "id": "Kllu7SJgmLij"
      },
      "execution_count": null,
      "outputs": []
    },
    {
      "cell_type": "markdown",
      "source": [
        "### Dataset Information"
      ],
      "metadata": {
        "id": "JlHwYmJAmNHm"
      }
    },
    {
      "cell_type": "code",
      "source": [
        "# Dataset Info\n",
        "df.info() # This helps us to get to know all the coloumns of the dataset and the data type of the each and every single coloumn"
      ],
      "metadata": {
        "id": "e9hRXRi6meOf"
      },
      "execution_count": null,
      "outputs": []
    },
    {
      "cell_type": "markdown",
      "source": [
        "#### Duplicate Values"
      ],
      "metadata": {
        "id": "35m5QtbWiB9F"
      }
    },
    {
      "cell_type": "code",
      "source": [
        "# Dataset Duplicate Value Count\n",
        "\n",
        "# check for duplicates\n",
        "if df.duplicated().any():\n",
        "    print(\"There are duplicates in the dataset.\")\n",
        "else:\n",
        "    print(\"There are no duplicates in the dataset.\")\n",
        "\n",
        "# Check for duplicates count\n",
        "duplicates = df.duplicated()\n",
        "print('\\nDuplicates:\\n', duplicates.sum())\n"
      ],
      "metadata": {
        "id": "1sLdpKYkmox0"
      },
      "execution_count": null,
      "outputs": []
    },
    {
      "cell_type": "markdown",
      "source": [
        "#### Missing Values/Null Values"
      ],
      "metadata": {
        "id": "PoPl-ycgm1ru"
      }
    },
    {
      "cell_type": "code",
      "source": [
        "# Missing Values/Null Values Count\n",
        "print(df.isnull().sum())"
      ],
      "metadata": {
        "id": "GgHWkxvamxVg"
      },
      "execution_count": null,
      "outputs": []
    },
    {
      "cell_type": "code",
      "source": [
        "# Visualizing the missing values\n",
        "\n",
        "# Create a heatmap of missing/null values in the DataFrame\n",
        "sns.heatmap(df.isnull(), cmap='coolwarm')\n",
        "\n",
        "# Show the plot\n",
        "plt.show()\n"
      ],
      "metadata": {
        "id": "3q5wnI3om9sJ"
      },
      "execution_count": null,
      "outputs": []
    },
    {
      "cell_type": "code",
      "source": [
        "# Visualizing the missing values, if heat map is difficult to understand.\n",
        "\n",
        "# create a bar chart of the null values in the dataframe\n",
        "df.isnull().sum().plot(kind='bar')\n",
        "\n",
        "# Show the plot\n",
        "plt.show()"
      ],
      "metadata": {
        "id": "xcSlltOjQRtP"
      },
      "execution_count": null,
      "outputs": []
    },
    {
      "cell_type": "markdown",
      "source": [
        "### What did you know about your dataset?"
      ],
      "metadata": {
        "id": "H0kj-8xxnORC"
      }
    },
    {
      "cell_type": "markdown",
      "source": [
        "The given Dataset is of Hotel Booking.\n",
        "\n",
        "**Generally!!!**\n",
        "\n",
        "The data is from 2 hotels namely - City Hotel and Resort Hotel with all of their facilities which are required for the customer.\n",
        "This dataset also contains few elements from the customer side such as \" was the booking cancled\" , \"date and duration\" , \"Are they repeated customers\" and so on which shall be very helpful for the analysis with insights.\n",
        "\n",
        "**Technically!!!**\n",
        "\n",
        "From the above data operations made we get to know that:\n",
        "\n",
        "The dataset has **31,994 duplicates.**\n",
        "\n",
        "The column children has 4 missing values.\n",
        "The column country has 488 missing values.\n",
        "The column agent has 16,340 missing values.\n",
        "The column company has 112,593 missing values.\n",
        "\n",
        "From this information, we can see that there are a significant number of missing values in the country, agent, and company columns. Additionally, there are some missing values in the children column. It would be important to handle these missing values appropriately depending on the goals of the analysis. We can also see that there are many duplicates in the dataset which may need to be removed or handled appropriately to avoid any bias in the analysis."
      ],
      "metadata": {
        "id": "gfoNAAC-nUe_"
      }
    },
    {
      "cell_type": "markdown",
      "source": [
        "## ***2. Understanding Your Variables***"
      ],
      "metadata": {
        "id": "nA9Y7ga8ng1Z"
      }
    },
    {
      "cell_type": "code",
      "source": [
        "# Dataset Columns\n",
        "print(df.columns) # This prints all the coloumns present in the dataset"
      ],
      "metadata": {
        "id": "j7xfkqrt5Ag5"
      },
      "execution_count": null,
      "outputs": []
    },
    {
      "cell_type": "code",
      "source": [
        "# Dataset Describe\n",
        "df.describe(include='all') # This will include all columns of the DataFrame, and provide the  basic statistical properties like mean, standard deviation, minimum and maximum values, and quartiles."
      ],
      "metadata": {
        "id": "DnOaZdaE5Q5t"
      },
      "execution_count": null,
      "outputs": []
    },
    {
      "cell_type": "code",
      "source": [
        "# Here is a FUNCTION to fetch the unique values present in the coloumn.\n",
        "\n",
        "def get_unique_values(df, column_name):#   Returns an array of the unique values in the specified column of a pandas DataFrame, sorted in the order in which they appear in the DataFrame.\n",
        "\n",
        "    unique_values = df[column_name].unique()\n",
        "    return unique_values"
      ],
      "metadata": {
        "id": "fLPX_2HPwQqs"
      },
      "execution_count": null,
      "outputs": []
    },
    {
      "cell_type": "code",
      "source": [
        "# Calling the function by sepcifing the coloumn name of which we have to fetch the unique values.\n",
        "\n",
        "unique_names = get_unique_values(df, 'hotel')\n",
        "\n",
        "# Print the unique values\n",
        "print(unique_names)\n"
      ],
      "metadata": {
        "id": "ZUNzwGmmxDl6"
      },
      "execution_count": null,
      "outputs": []
    },
    {
      "cell_type": "code",
      "source": [
        "# Now to reduce the efforts we shall print the unique values with thier count and the values itself\n",
        "\n",
        "#Function 2\n",
        "\n",
        "def print_unique_values(df, column_name):\n",
        "\n",
        "    unique_values = df[column_name].unique()\n",
        "    num_unique_values = len(unique_values)\n",
        "    print(f\"The column '{column_name}' has {num_unique_values} unique values.\")\n",
        "    return unique_values"
      ],
      "metadata": {
        "id": "-U7HJtfYxoxp"
      },
      "execution_count": null,
      "outputs": []
    },
    {
      "cell_type": "code",
      "source": [
        "# We shall call the Unique functions with its count and values\n",
        "\n",
        "unique_names = print_unique_values(df, 'hotel')\n",
        "\n",
        "# Print the unique values\n",
        "print(unique_names)"
      ],
      "metadata": {
        "id": "HKhlUrAIx9-7"
      },
      "execution_count": null,
      "outputs": []
    },
    {
      "cell_type": "code",
      "source": [
        "# Now we shall print all the unique values present in the coloumn in 1 go using a for loop\n",
        "\n",
        "for column in df.columns:\n",
        "    unique_values = df[column].unique()\n",
        "    num_unique_values = len(unique_values)\n",
        "    print(f\"The column '{column}' has {num_unique_values} unique values:\")\n",
        "    print(unique_values)\n",
        "    print()\n",
        "\n"
      ],
      "metadata": {
        "id": "C8dTu-svyXM7"
      },
      "execution_count": null,
      "outputs": []
    },
    {
      "cell_type": "markdown",
      "source": [
        "##**By usig the above Data results we can easily describe the coloumns and their values**"
      ],
      "metadata": {
        "id": "xCoJ9pKYyxJ9"
      }
    },
    {
      "cell_type": "markdown",
      "source": [
        "### Variables Description "
      ],
      "metadata": {
        "id": "PBTbrJXOngz2"
      }
    },
    {
      "cell_type": "markdown",
      "source": [
        "**Here are the discription of all the coloumns** \n",
        "\n",
        "There are totally 32 coloumns  \n",
        "\n",
        " **1   hotel :** - The column 'hotel' has 2 unique values:\n",
        "['Resort Hotel' 'City Hotel'] \n",
        "\n",
        " **2   is_canceled :** -The column 'is_canceled' has 2 unique values:\n",
        "[0 1] where if the booking was cancled its represented by 1 else 0\n",
        " \n",
        " **3   lead_time :** - This is the duration in days between Booking date and Arival date\n",
        "\n",
        " **4   arrival_date_year :** - The column 'arrival_date_year' has 3 unique values:\n",
        "[2015 2016 2017], hence we can conclude that, all of these data are from the specified 3 years only.\n",
        "\n",
        " **5   arrival_date_month :** - This is just the Arrival Month of the customer\n",
        "\n",
        " **6   arrival_date_week_number :** - There are 53 weeks in a year, this are the number of the week that the customer had arrived\n",
        "           \n",
        " **7   arrival_date_day_of_month :** - Arrival date of the month \n",
        " \n",
        " **8   stays_in_weekend_nights :** - Number of weekend nights the guest stayed or booked\n",
        "        \n",
        " **9   stays_in_week_nights :** - Number of week nights the guest stayed or booked\n",
        "    \n",
        " **10   adults :** - Number of Adults \n",
        "                 \n",
        " **11  children :** - Number of Children      \n",
        "                \n",
        " **12 babies :** - Number of Babies       \n",
        "\n",
        " **13  meal :** - The column 'meal' has 5 unique values:\n",
        "['BB' 'FB' 'HB' 'SC' 'Undefined']\n",
        "\n",
        "Which are :      \n",
        "\n",
        "*   BB: Bed and Breakfast\n",
        "\n",
        "*   FB: Full Board (includes breakfast, lunch, and dinner)\n",
        "\n",
        "*   HB: Half Board (includes breakfast and one other meal, usually dinner)\n",
        "\n",
        "*   SC: Self Catering (no meals included, guests are responsible for their own food)\n",
        "\n",
        "*   Undefined: This may indicate that the meal plan was not specified or recorded for some bookings.\n",
        "               \n",
        "\n",
        "**14  country :** - This column contain the country code of the guests, The column 'country' has 178 unique values.      \n",
        "                \n",
        " **15  market_segment :** - This specifies to which segment does the customer belongs to.\n",
        "\n",
        "There are 8 unique values in this column, and they are 'Direct', 'Corporate', 'Online TA', 'Offline TA/TO', 'Complementary', 'Groups', 'Undefined', and 'Aviation'.\n",
        "\n",
        "*   Direct: The booking was made directly with the hotel, for example through their \n",
        "website or over the phone.\n",
        "\n",
        "*   Corporate: The booking was made through a corporate account or business travel agency.\n",
        "\n",
        "*   Online TA: The booking was made through an online travel agency, such as Expedia or Booking.com.\n",
        "\n",
        "*   Offline TA/TO: The booking was made through a traditional travel agency or tour operator.\n",
        "\n",
        "*   Complementary: The booking is for a complementary or free stay, typically offered to reward loyalty or as part of a promotion.\n",
        "\n",
        "*   Groups: The booking is for a group of travelers, such as a tour group or conference attendees.\n",
        "\n",
        "*   Undefined: This may indicate that the market segment was not specified or recorded for some bookings.\n",
        "\n",
        "*   Aviation: The booking is for airline crew members or other aviation-related personnel. \n",
        "           \n",
        " **16  distribution_channel :** - This specifies how the customer accessed the stay.\n",
        "\n",
        "The column 'distribution_channel' has 5 unique values:\n",
        "['Direct' 'Corporate' 'TA/TO' 'Undefined' 'GDS']\n",
        "\n",
        "*   GDS: The hotel sells its rooms through a global distribution system, which is a computerized network used by travel agents and online travel agencies to book flights, hotels, and other travel services.\n",
        "       \n",
        "**17  is_repeated_guest :** - The column 'is_repeated_guest' has 2 unique values:\n",
        "[0 1], which represents Yes or No \n",
        "       \n",
        " **18  previous_cancellations :**  This specifies if there was a previous cancellation, if yes the number of times is mentioned as int values.\n",
        "\n",
        "        \n",
        " **19  previous_bookings_not_canceled :** his specifies if the booking was not canclled and the count for the same is mentioned as int values.\n",
        "\n",
        " **20  reserved_room_type :** - A distince value is given to the room according to the luxury, The column 'reserved_room_type' has 10 unique values:\n",
        "['C' 'A' 'D' 'E' 'G' 'F' 'H' 'L' 'P' 'B']\n",
        "         \n",
        " **21  assigned_room_type :** -  A distince value is given to the room according to the luxury, The column 'assigned_room_type' has 12 unique values:\n",
        "['C' 'A' 'D' 'E' 'G' 'F' 'I' 'B' 'H' 'P' 'L' 'K']\n",
        "      \n",
        " **22  booking_changes :** - If the booking was changes if yes the corresponding value is given.\n",
        "                \n",
        " **23  deposit_type :**- The column 'deposit_type' has 3 unique values:\n",
        "['No Deposit' 'Refundable' 'Non Refund']\n",
        "\n",
        " **24  agent :** - If the room was externally booked by the agent, the agent ID is mentioned.    \n",
        "\n",
        " **25  company :** - Gives Company ID as well.\n",
        "\n",
        " **26  days_in_waiting_list :** - The total Number og days in the waiting List\n",
        "\n",
        " **27  customer_type :** - The column 'customer_type' has 4 unique values:\n",
        "['Transient' 'Contract' 'Transient-Party' 'Group']\n",
        "\n",
        "*   Transient: A transient customer is one who is not part of a group and is not under a contract. These customers usually make individual reservations and stay for a short period of time.\n",
        "\n",
        "*   Contract: A contract customer is one who has a pre-negotiated agreement with the hotel for a certain period of time. These customers are usually businesses or organizations that have frequent and/or long-term stays at the hotel.\n",
        "\n",
        "*   Transient-Party: A transient-party customer is a group of people who are not part of a contract but are traveling together, such as a family or a group of friends. These customers usually make individual reservations but are staying at the hotel for the same reason.\n",
        "\n",
        "*   Group: A group customer is one who has a pre-arranged agreement with the hotel for a certain period of time and has a minimum number of rooms reserved. These customers are usually organizations, clubs, or other groups that are traveling together.\n",
        "\n",
        "**28  adr :** This is Average Daily Rate, which is a key performance metric used in the hotel industry to measure the average rate paid for each occupied room per day. It is calculated by dividing the total room revenue by the number of occupied rooms on a given day. \n",
        "\n",
        " **29  required_car_parking_spaces :** - Car parking requirment, If yes how many? is specified.\n",
        "\n",
        " **30  total_of_special_requests :** - Any special requests by the customer, If yes, how many?\n",
        "\n",
        "\n",
        " **31  reservation_status :** - The column 'reservation_status' has 3 unique values:\n",
        "['Check-Out' 'Canceled' 'No-Show']\n",
        "\n",
        "*   Check-Out: This reservation status indicates that the guest has checked out of the hotel and their stay is complete.\n",
        "\n",
        "*   Canceled: This reservation status indicates that the guest has canceled their reservation before their scheduled arrival date. The room that was reserved for them may be available for other guests to book.\n",
        "\n",
        "*   No-Show: This reservation status indicates that the guest did not show up for their reservation and did not cancel it. In this case, the room that was reserved for them may go unused, resulting in lost revenue for the hotel.\n",
        "\n",
        " **32  reservation_status_date :** - These are the reveservation dates accordingly.\n",
        " "
      ],
      "metadata": {
        "id": "aJV4KIxSnxay"
      }
    },
    {
      "cell_type": "markdown",
      "source": [
        "### Check Unique Values for each variable."
      ],
      "metadata": {
        "id": "u3PMJOP6ngxN"
      }
    },
    {
      "cell_type": "code",
      "source": [
        "# Check Unique Values for each variable.\n",
        "for column in df.columns:\n",
        "    unique_values = df[column].unique()\n",
        "    num_unique_values = len(unique_values)\n",
        "    print(f\"The column '{column}' has {num_unique_values} unique values:\")\n",
        "    print(unique_values)\n",
        "    print()"
      ],
      "metadata": {
        "id": "zms12Yq5n-jE"
      },
      "execution_count": null,
      "outputs": []
    },
    {
      "cell_type": "markdown",
      "source": [
        "## 3. ***Data Wrangling***"
      ],
      "metadata": {
        "id": "dauF4eBmngu3"
      }
    },
    {
      "cell_type": "markdown",
      "source": [
        "### Data Wrangling Code"
      ],
      "metadata": {
        "id": "bKJF3rekwFvQ"
      }
    },
    {
      "cell_type": "code",
      "source": [
        "# Write your code to make your dataset analysis ready.\n",
        "\n",
        "# Creating a copy of the Dataset to keep the original data safe.\n",
        "\n",
        "dff = df.copy()"
      ],
      "metadata": {
        "id": "wk-9a2fpoLcV"
      },
      "execution_count": null,
      "outputs": []
    },
    {
      "cell_type": "code",
      "source": [
        "print(dff.isnull().sum())"
      ],
      "metadata": {
        "id": "nw8ZCJBBqrZC"
      },
      "execution_count": null,
      "outputs": []
    },
    {
      "cell_type": "code",
      "source": [
        "# As we know there are 2 huge number of data missing in Agent and company we are droppinf it.\n",
        "\n",
        "# Drop the columns 'agent' and 'company'\n",
        "dff = dff.drop(['agent', 'company'], axis=1)\n",
        "\n",
        "# Print the first 5 rows of the resulting dataframe\n",
        "dff.head()"
      ],
      "metadata": {
        "id": "uE5II4kNqB2Q"
      },
      "execution_count": null,
      "outputs": []
    },
    {
      "cell_type": "code",
      "source": [
        "print(dff.isnull().sum())"
      ],
      "metadata": {
        "id": "nBarlTtHqBzW"
      },
      "execution_count": null,
      "outputs": []
    },
    {
      "cell_type": "code",
      "source": [
        "# As the null values of the country is less, We shall fill the 488 county null values as \"UNKNOWN\"\n",
        "# As the children coloumn has just 4 null values we shall understand that those null values can be predicted as ZERO Children of the guest.\n",
        "\n",
        "dff['country'].fillna('Unknown', inplace=True) # Filling Unknown for 488 missed country names\n",
        "dff['children'].fillna(0, inplace=True) # Filling 0 Children for 4 missing Children count.\n",
        "print(dff.isnull().sum())"
      ],
      "metadata": {
        "id": "xN7Ui949qBwZ"
      },
      "execution_count": null,
      "outputs": []
    },
    {
      "cell_type": "markdown",
      "source": [
        "## Now We have ZERO NULL values in the DATASET"
      ],
      "metadata": {
        "id": "wc0cUUZRt6su"
      }
    },
    {
      "cell_type": "markdown",
      "source": [
        "### We shall check how many Numeric and Categorical Data do we have\n",
        "\n",
        "\n"
      ],
      "metadata": {
        "id": "KkMCGesdus9z"
      }
    },
    {
      "cell_type": "code",
      "source": [
        "numeric_cols = dff.select_dtypes(include=['int64', 'float64']).columns # This gets all the Numeric coloumns\n",
        "categorical_cols = dff.select_dtypes(include=['object', 'category']).columns # THis gets all the Categorical coloumns\n",
        "\n",
        "print(f\"Number of numeric columns: {len(numeric_cols)}\")\n",
        "print()\n",
        "print(f\"Numeric columns: {numeric_cols}\")\n",
        "print()\n",
        "print()\n",
        "print(f\"Categorical columns: {categorical_cols}\")\n",
        "print()\n",
        "print(f\"Number of categorical columns: {len(categorical_cols)}\")"
      ],
      "metadata": {
        "id": "eQ6zthNIqBs-"
      },
      "execution_count": null,
      "outputs": []
    },
    {
      "cell_type": "markdown",
      "source": [
        "### What all manipulations have you done and insights you found?\n",
        "\n",
        "\n"
      ],
      "metadata": {
        "id": "MSa1f5Uengrz"
      }
    },
    {
      "cell_type": "markdown",
      "source": [
        "### Here are the Data manipulations made and the insights for the same with an example.\n",
        "\n",
        "1. The Data is Manipulated and is prepared to undergo the **UBM Rule**\n",
        "\n",
        "2. The data varibales are understood by getting to the what unique vales does each of the coloumn contain.\n",
        "\n",
        "3. The NULL values are calculated.\n",
        "\n",
        "4. As we have the Unique values of each coloumn it is easy to undrstand their properties and relationships with the other variable.\n",
        "\n",
        "5. The high number of Null value coloumns are dropped so that the result is more aurate\n",
        "\n",
        "6. All the small null values beloew 500 are filled using the simplest method as the data was in categorical. IF the data was in numerical we could have done other methos such as mean, median and mode etc.\n",
        "\n",
        "7. A new copy of the data is assigned to a new variable named \"dff\" so that the original data is not manuplated.\n",
        "\n",
        "8. The data is fit to proceede with the visulation for all the insights that we have to implement.\n",
        "\n",
        "9. As the data is ready, we can now vizualize the data and their relationships to get the insights results such as, the 'stays_in_weekend_nights' and 'stays_in_week_nights' columns can be combined to create a new feature called 'total_stays', which gives the total number of nights stayed.\n",
        "\n",
        "10. By all of these insights and the variable components and their relationship among them, it very easy to get to know all the required answerd in the favour of Hotel Management and also the customer as well."
      ],
      "metadata": {
        "id": "LbyXE7I1olp8"
      }
    },
    {
      "cell_type": "markdown",
      "source": [
        "## ***4. Data Vizualization, Storytelling & Experimenting with charts : Understand the relationships between variables***"
      ],
      "metadata": {
        "id": "GF8Ens_Soomf"
      }
    },
    {
      "cell_type": "markdown",
      "source": [
        "#### Chart - 1"
      ],
      "metadata": {
        "id": "0wOQAZs5pc--"
      }
    },
    {
      "cell_type": "code",
      "source": [
        "# Chart - 1 visualization code"
      ],
      "metadata": {
        "id": "7v_ESjsspbW7"
      },
      "execution_count": null,
      "outputs": []
    },
    {
      "cell_type": "markdown",
      "source": [
        "##### 1. Why did you pick the specific chart?"
      ],
      "metadata": {
        "id": "K5QZ13OEpz2H"
      }
    },
    {
      "cell_type": "markdown",
      "source": [
        "Answer Here."
      ],
      "metadata": {
        "id": "XESiWehPqBRc"
      }
    },
    {
      "cell_type": "markdown",
      "source": [
        "##### 2. What is/are the insight(s) found from the chart?"
      ],
      "metadata": {
        "id": "lQ7QKXXCp7Bj"
      }
    },
    {
      "cell_type": "markdown",
      "source": [
        "Answer Here"
      ],
      "metadata": {
        "id": "C_j1G7yiqdRP"
      }
    },
    {
      "cell_type": "markdown",
      "source": [
        "##### 3. Will the gained insights help creating a positive business impact? \n",
        "Are there any insights that lead to negative growth? Justify with specific reason."
      ],
      "metadata": {
        "id": "448CDAPjqfQr"
      }
    },
    {
      "cell_type": "markdown",
      "source": [
        "Answer Here"
      ],
      "metadata": {
        "id": "3cspy4FjqxJW"
      }
    },
    {
      "cell_type": "markdown",
      "source": [
        "#### Chart - 2"
      ],
      "metadata": {
        "id": "KSlN3yHqYklG"
      }
    },
    {
      "cell_type": "code",
      "source": [
        "# Chart - 2 visualization code"
      ],
      "metadata": {
        "id": "R4YgtaqtYklH"
      },
      "execution_count": null,
      "outputs": []
    },
    {
      "cell_type": "markdown",
      "source": [
        "##### 1. Why did you pick the specific chart?"
      ],
      "metadata": {
        "id": "t6dVpIINYklI"
      }
    },
    {
      "cell_type": "markdown",
      "source": [
        "Answer Here."
      ],
      "metadata": {
        "id": "5aaW0BYyYklI"
      }
    },
    {
      "cell_type": "markdown",
      "source": [
        "##### 2. What is/are the insight(s) found from the chart?"
      ],
      "metadata": {
        "id": "ijmpgYnKYklI"
      }
    },
    {
      "cell_type": "markdown",
      "source": [
        "Answer Here"
      ],
      "metadata": {
        "id": "PSx9atu2YklI"
      }
    },
    {
      "cell_type": "markdown",
      "source": [
        "##### 3. Will the gained insights help creating a positive business impact? \n",
        "Are there any insights that lead to negative growth? Justify with specific reason."
      ],
      "metadata": {
        "id": "-JiQyfWJYklI"
      }
    },
    {
      "cell_type": "markdown",
      "source": [
        "Answer Here"
      ],
      "metadata": {
        "id": "BcBbebzrYklV"
      }
    },
    {
      "cell_type": "markdown",
      "source": [
        "#### Chart - 3"
      ],
      "metadata": {
        "id": "EM7whBJCYoAo"
      }
    },
    {
      "cell_type": "code",
      "source": [
        "# Chart - 3 visualization code"
      ],
      "metadata": {
        "id": "t6GMdE67YoAp"
      },
      "execution_count": null,
      "outputs": []
    },
    {
      "cell_type": "markdown",
      "source": [
        "##### 1. Why did you pick the specific chart?"
      ],
      "metadata": {
        "id": "fge-S5ZAYoAp"
      }
    },
    {
      "cell_type": "markdown",
      "source": [
        "Answer Here."
      ],
      "metadata": {
        "id": "5dBItgRVYoAp"
      }
    },
    {
      "cell_type": "markdown",
      "source": [
        "##### 2. What is/are the insight(s) found from the chart?"
      ],
      "metadata": {
        "id": "85gYPyotYoAp"
      }
    },
    {
      "cell_type": "markdown",
      "source": [
        "Answer Here"
      ],
      "metadata": {
        "id": "4jstXR6OYoAp"
      }
    },
    {
      "cell_type": "markdown",
      "source": [
        "##### 3. Will the gained insights help creating a positive business impact? \n",
        "Are there any insights that lead to negative growth? Justify with specific reason."
      ],
      "metadata": {
        "id": "RoGjAbkUYoAp"
      }
    },
    {
      "cell_type": "markdown",
      "source": [
        "Answer Here"
      ],
      "metadata": {
        "id": "zfJ8IqMcYoAp"
      }
    },
    {
      "cell_type": "markdown",
      "source": [
        "#### Chart - 4"
      ],
      "metadata": {
        "id": "4Of9eVA-YrdM"
      }
    },
    {
      "cell_type": "code",
      "source": [
        "# Chart - 4 visualization code"
      ],
      "metadata": {
        "id": "irlUoxc8YrdO"
      },
      "execution_count": null,
      "outputs": []
    },
    {
      "cell_type": "markdown",
      "source": [
        "##### 1. Why did you pick the specific chart?"
      ],
      "metadata": {
        "id": "iky9q4vBYrdO"
      }
    },
    {
      "cell_type": "markdown",
      "source": [
        "Answer Here."
      ],
      "metadata": {
        "id": "aJRCwT6DYrdO"
      }
    },
    {
      "cell_type": "markdown",
      "source": [
        "##### 2. What is/are the insight(s) found from the chart?"
      ],
      "metadata": {
        "id": "F6T5p64dYrdO"
      }
    },
    {
      "cell_type": "markdown",
      "source": [
        "Answer Here"
      ],
      "metadata": {
        "id": "Xx8WAJvtYrdO"
      }
    },
    {
      "cell_type": "markdown",
      "source": [
        "##### 3. Will the gained insights help creating a positive business impact? \n",
        "Are there any insights that lead to negative growth? Justify with specific reason."
      ],
      "metadata": {
        "id": "y-Ehk30pYrdP"
      }
    },
    {
      "cell_type": "markdown",
      "source": [
        "Answer Here"
      ],
      "metadata": {
        "id": "jLNxxz7MYrdP"
      }
    },
    {
      "cell_type": "markdown",
      "source": [
        "#### Chart - 5"
      ],
      "metadata": {
        "id": "bamQiAODYuh1"
      }
    },
    {
      "cell_type": "code",
      "source": [
        "# Chart - 5 visualization code"
      ],
      "metadata": {
        "id": "TIJwrbroYuh3"
      },
      "execution_count": null,
      "outputs": []
    },
    {
      "cell_type": "markdown",
      "source": [
        "##### 1. Why did you pick the specific chart?"
      ],
      "metadata": {
        "id": "QHF8YVU7Yuh3"
      }
    },
    {
      "cell_type": "markdown",
      "source": [
        "Answer Here."
      ],
      "metadata": {
        "id": "dcxuIMRPYuh3"
      }
    },
    {
      "cell_type": "markdown",
      "source": [
        "##### 2. What is/are the insight(s) found from the chart?"
      ],
      "metadata": {
        "id": "GwzvFGzlYuh3"
      }
    },
    {
      "cell_type": "markdown",
      "source": [
        "Answer Here"
      ],
      "metadata": {
        "id": "uyqkiB8YYuh3"
      }
    },
    {
      "cell_type": "markdown",
      "source": [
        "##### 3. Will the gained insights help creating a positive business impact? \n",
        "Are there any insights that lead to negative growth? Justify with specific reason."
      ],
      "metadata": {
        "id": "qYpmQ266Yuh3"
      }
    },
    {
      "cell_type": "markdown",
      "source": [
        "Answer Here"
      ],
      "metadata": {
        "id": "_WtzZ_hCYuh4"
      }
    },
    {
      "cell_type": "markdown",
      "source": [
        "#### Chart - 6"
      ],
      "metadata": {
        "id": "OH-pJp9IphqM"
      }
    },
    {
      "cell_type": "code",
      "source": [
        "# Chart - 6 visualization code"
      ],
      "metadata": {
        "id": "kuRf4wtuphqN"
      },
      "execution_count": null,
      "outputs": []
    },
    {
      "cell_type": "markdown",
      "source": [
        "##### 1. Why did you pick the specific chart?"
      ],
      "metadata": {
        "id": "bbFf2-_FphqN"
      }
    },
    {
      "cell_type": "markdown",
      "source": [
        "Answer Here."
      ],
      "metadata": {
        "id": "loh7H2nzphqN"
      }
    },
    {
      "cell_type": "markdown",
      "source": [
        "##### 2. What is/are the insight(s) found from the chart?"
      ],
      "metadata": {
        "id": "_ouA3fa0phqN"
      }
    },
    {
      "cell_type": "markdown",
      "source": [
        "Answer Here"
      ],
      "metadata": {
        "id": "VECbqPI7phqN"
      }
    },
    {
      "cell_type": "markdown",
      "source": [
        "##### 3. Will the gained insights help creating a positive business impact? \n",
        "Are there any insights that lead to negative growth? Justify with specific reason."
      ],
      "metadata": {
        "id": "Seke61FWphqN"
      }
    },
    {
      "cell_type": "markdown",
      "source": [
        "Answer Here"
      ],
      "metadata": {
        "id": "DW4_bGpfphqN"
      }
    },
    {
      "cell_type": "markdown",
      "source": [
        "#### Chart - 7"
      ],
      "metadata": {
        "id": "PIIx-8_IphqN"
      }
    },
    {
      "cell_type": "code",
      "source": [
        "# Chart - 7 visualization code"
      ],
      "metadata": {
        "id": "lqAIGUfyphqO"
      },
      "execution_count": null,
      "outputs": []
    },
    {
      "cell_type": "markdown",
      "source": [
        "##### 1. Why did you pick the specific chart?"
      ],
      "metadata": {
        "id": "t27r6nlMphqO"
      }
    },
    {
      "cell_type": "markdown",
      "source": [
        "Answer Here."
      ],
      "metadata": {
        "id": "iv6ro40sphqO"
      }
    },
    {
      "cell_type": "markdown",
      "source": [
        "##### 2. What is/are the insight(s) found from the chart?"
      ],
      "metadata": {
        "id": "r2jJGEOYphqO"
      }
    },
    {
      "cell_type": "markdown",
      "source": [
        "Answer Here"
      ],
      "metadata": {
        "id": "Po6ZPi4hphqO"
      }
    },
    {
      "cell_type": "markdown",
      "source": [
        "##### 3. Will the gained insights help creating a positive business impact? \n",
        "Are there any insights that lead to negative growth? Justify with specific reason."
      ],
      "metadata": {
        "id": "b0JNsNcRphqO"
      }
    },
    {
      "cell_type": "markdown",
      "source": [
        "Answer Here"
      ],
      "metadata": {
        "id": "xvSq8iUTphqO"
      }
    },
    {
      "cell_type": "markdown",
      "source": [
        "#### Chart - 8"
      ],
      "metadata": {
        "id": "BZR9WyysphqO"
      }
    },
    {
      "cell_type": "code",
      "source": [
        "# Chart - 8 visualization code"
      ],
      "metadata": {
        "id": "TdPTWpAVphqO"
      },
      "execution_count": null,
      "outputs": []
    },
    {
      "cell_type": "markdown",
      "source": [
        "##### 1. Why did you pick the specific chart?"
      ],
      "metadata": {
        "id": "jj7wYXLtphqO"
      }
    },
    {
      "cell_type": "markdown",
      "source": [
        "Answer Here."
      ],
      "metadata": {
        "id": "Ob8u6rCTphqO"
      }
    },
    {
      "cell_type": "markdown",
      "source": [
        "##### 2. What is/are the insight(s) found from the chart?"
      ],
      "metadata": {
        "id": "eZrbJ2SmphqO"
      }
    },
    {
      "cell_type": "markdown",
      "source": [
        "Answer Here"
      ],
      "metadata": {
        "id": "mZtgC_hjphqO"
      }
    },
    {
      "cell_type": "markdown",
      "source": [
        "##### 3. Will the gained insights help creating a positive business impact? \n",
        "Are there any insights that lead to negative growth? Justify with specific reason."
      ],
      "metadata": {
        "id": "rFu4xreNphqO"
      }
    },
    {
      "cell_type": "markdown",
      "source": [
        "Answer Here"
      ],
      "metadata": {
        "id": "ey_0qi68phqO"
      }
    },
    {
      "cell_type": "markdown",
      "source": [
        "#### Chart - 9"
      ],
      "metadata": {
        "id": "YJ55k-q6phqO"
      }
    },
    {
      "cell_type": "code",
      "source": [
        "# Chart - 9 visualization code"
      ],
      "metadata": {
        "id": "B2aS4O1ophqO"
      },
      "execution_count": null,
      "outputs": []
    },
    {
      "cell_type": "markdown",
      "source": [
        "##### 1. Why did you pick the specific chart?"
      ],
      "metadata": {
        "id": "gCFgpxoyphqP"
      }
    },
    {
      "cell_type": "markdown",
      "source": [
        "Answer Here."
      ],
      "metadata": {
        "id": "TVxDimi2phqP"
      }
    },
    {
      "cell_type": "markdown",
      "source": [
        "##### 2. What is/are the insight(s) found from the chart?"
      ],
      "metadata": {
        "id": "OVtJsKN_phqQ"
      }
    },
    {
      "cell_type": "markdown",
      "source": [
        "Answer Here"
      ],
      "metadata": {
        "id": "ngGi97qjphqQ"
      }
    },
    {
      "cell_type": "markdown",
      "source": [
        "##### 3. Will the gained insights help creating a positive business impact? \n",
        "Are there any insights that lead to negative growth? Justify with specific reason."
      ],
      "metadata": {
        "id": "lssrdh5qphqQ"
      }
    },
    {
      "cell_type": "markdown",
      "source": [
        "Answer Here"
      ],
      "metadata": {
        "id": "tBpY5ekJphqQ"
      }
    },
    {
      "cell_type": "markdown",
      "source": [
        "#### Chart - 10"
      ],
      "metadata": {
        "id": "U2RJ9gkRphqQ"
      }
    },
    {
      "cell_type": "code",
      "source": [
        "# Chart - 10 visualization code"
      ],
      "metadata": {
        "id": "GM7a4YP4phqQ"
      },
      "execution_count": null,
      "outputs": []
    },
    {
      "cell_type": "markdown",
      "source": [
        "##### 1. Why did you pick the specific chart?"
      ],
      "metadata": {
        "id": "1M8mcRywphqQ"
      }
    },
    {
      "cell_type": "markdown",
      "source": [
        "Answer Here."
      ],
      "metadata": {
        "id": "8agQvks0phqQ"
      }
    },
    {
      "cell_type": "markdown",
      "source": [
        "##### 2. What is/are the insight(s) found from the chart?"
      ],
      "metadata": {
        "id": "tgIPom80phqQ"
      }
    },
    {
      "cell_type": "markdown",
      "source": [
        "Answer Here"
      ],
      "metadata": {
        "id": "Qp13pnNzphqQ"
      }
    },
    {
      "cell_type": "markdown",
      "source": [
        "##### 3. Will the gained insights help creating a positive business impact? \n",
        "Are there any insights that lead to negative growth? Justify with specific reason."
      ],
      "metadata": {
        "id": "JMzcOPDDphqR"
      }
    },
    {
      "cell_type": "markdown",
      "source": [
        "Answer Here"
      ],
      "metadata": {
        "id": "R4Ka1PC2phqR"
      }
    },
    {
      "cell_type": "markdown",
      "source": [
        "#### Chart - 11"
      ],
      "metadata": {
        "id": "x-EpHcCOp1ci"
      }
    },
    {
      "cell_type": "code",
      "source": [
        "# Chart - 11 visualization code"
      ],
      "metadata": {
        "id": "mAQTIvtqp1cj"
      },
      "execution_count": null,
      "outputs": []
    },
    {
      "cell_type": "markdown",
      "source": [
        "##### 1. Why did you pick the specific chart?"
      ],
      "metadata": {
        "id": "X_VqEhTip1ck"
      }
    },
    {
      "cell_type": "markdown",
      "source": [
        "Answer Here."
      ],
      "metadata": {
        "id": "-vsMzt_np1ck"
      }
    },
    {
      "cell_type": "markdown",
      "source": [
        "##### 2. What is/are the insight(s) found from the chart?"
      ],
      "metadata": {
        "id": "8zGJKyg5p1ck"
      }
    },
    {
      "cell_type": "markdown",
      "source": [
        "Answer Here"
      ],
      "metadata": {
        "id": "ZYdMsrqVp1ck"
      }
    },
    {
      "cell_type": "markdown",
      "source": [
        "##### 3. Will the gained insights help creating a positive business impact? \n",
        "Are there any insights that lead to negative growth? Justify with specific reason."
      ],
      "metadata": {
        "id": "PVzmfK_Ep1ck"
      }
    },
    {
      "cell_type": "markdown",
      "source": [
        "Answer Here"
      ],
      "metadata": {
        "id": "druuKYZpp1ck"
      }
    },
    {
      "cell_type": "markdown",
      "source": [
        "#### Chart - 12"
      ],
      "metadata": {
        "id": "n3dbpmDWp1ck"
      }
    },
    {
      "cell_type": "code",
      "source": [
        "# Chart - 12 visualization code"
      ],
      "metadata": {
        "id": "bwevp1tKp1ck"
      },
      "execution_count": null,
      "outputs": []
    },
    {
      "cell_type": "markdown",
      "source": [
        "##### 1. Why did you pick the specific chart?"
      ],
      "metadata": {
        "id": "ylSl6qgtp1ck"
      }
    },
    {
      "cell_type": "markdown",
      "source": [
        "Answer Here."
      ],
      "metadata": {
        "id": "m2xqNkiQp1ck"
      }
    },
    {
      "cell_type": "markdown",
      "source": [
        "##### 2. What is/are the insight(s) found from the chart?"
      ],
      "metadata": {
        "id": "ZWILFDl5p1ck"
      }
    },
    {
      "cell_type": "markdown",
      "source": [
        "Answer Here"
      ],
      "metadata": {
        "id": "x-lUsV2mp1ck"
      }
    },
    {
      "cell_type": "markdown",
      "source": [
        "##### 3. Will the gained insights help creating a positive business impact? \n",
        "Are there any insights that lead to negative growth? Justify with specific reason."
      ],
      "metadata": {
        "id": "M7G43BXep1ck"
      }
    },
    {
      "cell_type": "markdown",
      "source": [
        "Answer Here"
      ],
      "metadata": {
        "id": "5wwDJXsLp1cl"
      }
    },
    {
      "cell_type": "markdown",
      "source": [
        "#### Chart - 13"
      ],
      "metadata": {
        "id": "Ag9LCva-p1cl"
      }
    },
    {
      "cell_type": "code",
      "source": [
        "# Chart - 13 visualization code"
      ],
      "metadata": {
        "id": "EUfxeq9-p1cl"
      },
      "execution_count": null,
      "outputs": []
    },
    {
      "cell_type": "markdown",
      "source": [
        "##### 1. Why did you pick the specific chart?"
      ],
      "metadata": {
        "id": "E6MkPsBcp1cl"
      }
    },
    {
      "cell_type": "markdown",
      "source": [
        "Answer Here."
      ],
      "metadata": {
        "id": "V22bRsFWp1cl"
      }
    },
    {
      "cell_type": "markdown",
      "source": [
        "##### 2. What is/are the insight(s) found from the chart?"
      ],
      "metadata": {
        "id": "2cELzS2fp1cl"
      }
    },
    {
      "cell_type": "markdown",
      "source": [
        "Answer Here"
      ],
      "metadata": {
        "id": "ozQPc2_Ip1cl"
      }
    },
    {
      "cell_type": "markdown",
      "source": [
        "##### 3. Will the gained insights help creating a positive business impact? \n",
        "Are there any insights that lead to negative growth? Justify with specific reason."
      ],
      "metadata": {
        "id": "3MPXvC8up1cl"
      }
    },
    {
      "cell_type": "markdown",
      "source": [
        "Answer Here"
      ],
      "metadata": {
        "id": "GL8l1tdLp1cl"
      }
    },
    {
      "cell_type": "markdown",
      "source": [
        "#### Chart - 14 - Correlation Heatmap"
      ],
      "metadata": {
        "id": "NC_X3p0fY2L0"
      }
    },
    {
      "cell_type": "code",
      "source": [
        "# Correlation Heatmap visualization code"
      ],
      "metadata": {
        "id": "xyC9zolEZNRQ"
      },
      "execution_count": null,
      "outputs": []
    },
    {
      "cell_type": "markdown",
      "source": [
        "##### 1. Why did you pick the specific chart?"
      ],
      "metadata": {
        "id": "UV0SzAkaZNRQ"
      }
    },
    {
      "cell_type": "markdown",
      "source": [
        "Answer Here."
      ],
      "metadata": {
        "id": "DVPuT8LYZNRQ"
      }
    },
    {
      "cell_type": "markdown",
      "source": [
        "##### 2. What is/are the insight(s) found from the chart?"
      ],
      "metadata": {
        "id": "YPEH6qLeZNRQ"
      }
    },
    {
      "cell_type": "markdown",
      "source": [
        "Answer Here"
      ],
      "metadata": {
        "id": "bfSqtnDqZNRR"
      }
    },
    {
      "cell_type": "markdown",
      "source": [
        "#### Chart - 15 - Pair Plot "
      ],
      "metadata": {
        "id": "q29F0dvdveiT"
      }
    },
    {
      "cell_type": "code",
      "source": [
        "# Pair Plot visualization code"
      ],
      "metadata": {
        "id": "o58-TEIhveiU"
      },
      "execution_count": null,
      "outputs": []
    },
    {
      "cell_type": "markdown",
      "source": [
        "##### 1. Why did you pick the specific chart?"
      ],
      "metadata": {
        "id": "EXh0U9oCveiU"
      }
    },
    {
      "cell_type": "markdown",
      "source": [
        "Answer Here."
      ],
      "metadata": {
        "id": "eMmPjTByveiU"
      }
    },
    {
      "cell_type": "markdown",
      "source": [
        "##### 2. What is/are the insight(s) found from the chart?"
      ],
      "metadata": {
        "id": "22aHeOlLveiV"
      }
    },
    {
      "cell_type": "markdown",
      "source": [
        "Answer Here"
      ],
      "metadata": {
        "id": "uPQ8RGwHveiV"
      }
    },
    {
      "cell_type": "markdown",
      "source": [
        "## **5. Solution to Business Objective**"
      ],
      "metadata": {
        "id": "JcMwzZxoAimU"
      }
    },
    {
      "cell_type": "markdown",
      "source": [
        "#### What do you suggest the client to achieve Business Objective ? \n",
        "Explain Briefly."
      ],
      "metadata": {
        "id": "8G2x9gOozGDZ"
      }
    },
    {
      "cell_type": "markdown",
      "source": [
        "Answer Here."
      ],
      "metadata": {
        "id": "pASKb0qOza21"
      }
    },
    {
      "cell_type": "markdown",
      "source": [
        "# **Conclusion**"
      ],
      "metadata": {
        "id": "gCX9965dhzqZ"
      }
    },
    {
      "cell_type": "markdown",
      "source": [
        "Write the conclusion here."
      ],
      "metadata": {
        "id": "Fjb1IsQkh3yE"
      }
    },
    {
      "cell_type": "markdown",
      "source": [
        "### ***Hurrah! You have successfully completed your EDA Capstone Project !!!***"
      ],
      "metadata": {
        "id": "gIfDvo9L0UH2"
      }
    }
  ]
}