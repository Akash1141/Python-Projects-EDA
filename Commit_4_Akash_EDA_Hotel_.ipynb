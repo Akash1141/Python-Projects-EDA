{
  "nbformat": 4,
  "nbformat_minor": 0,
  "metadata": {
    "colab": {
      "private_outputs": true,
      "provenance": [],
      "collapsed_sections": [
        "7x2PSJOn8NNQ",
        "gIfDvo9L0UH2"
      ]
    },
    "kernelspec": {
      "name": "python3",
      "display_name": "Python 3"
    },
    "language_info": {
      "name": "python"
    }
  },
  "cells": [
    {
      "cell_type": "markdown",
      "source": [
        "# **Project Name**    - Hotel Booking Analysis \n",
        "\n"
      ],
      "metadata": {
        "id": "vncDsAP0Gaoa"
      }
    },
    {
      "cell_type": "markdown",
      "source": [
        "##### **Project Type**    - EDA\n",
        "##### **Contribution**    - Individual\n",
        "##### **Name**            - Akash V"
      ],
      "metadata": {
        "id": "beRrZCGUAJYm"
      }
    },
    {
      "cell_type": "markdown",
      "source": [
        "# **Project Summary -**"
      ],
      "metadata": {
        "id": "FJNUwmbgGyua"
      }
    },
    {
      "cell_type": "markdown",
      "source": [
        "The hotel booking dataset provides valuable information for analyzing hotel bookings in terms of when to book a hotel room, the optimal length of stay, and whether or not a hotel is likely to receive a disproportionately high number of special requests. This data set includes booking information for a city hotel and a resort hotel and includes data such as when the booking was made, length of stay, the number of adults, children, and/or babies, and the number of available parking spaces.\n",
        "\n",
        "The data set is useful for anyone interested in the hotel industry, including hotel managers, marketing teams, and data analysts. By analyzing the data, it is possible to gain insights into factors that govern hotel bookings, which can help inform business decisions, such as pricing strategies and marketing campaigns.\n",
        "\n",
        "One important factor to consider is the timing of bookings. The data set can be used to analyze trends in booking behavior, such as the best time of year to book a hotel room. For example, it may be found that booking a hotel room in the off-season results in lower rates, while booking during peak season results in higher rates. Additionally, the data can be used to analyze the optimal length of stay in order to get the best daily rate. This information can help inform pricing strategies and can be used to attract guests who are looking for value for their money.\n",
        "\n",
        "Another important factor to consider is the type of guest who is making the booking. The data set includes information on the number of adults, children, and/or babies, as well as the number of available parking spaces. This information can be used to analyze the types of guests who are most likely to book a hotel room, and can help inform marketing campaigns and promotions that target specific types of guests.\n",
        "\n",
        "Finally, the data set can be used to analyze the likelihood of a hotel receiving a disproportionately high number of special requests. Special requests can include anything from room upgrades to special accommodations for guests with disabilities. By analyzing the data, it may be possible to identify trends in special request behavior, which can help inform hotel policies and procedures.\n",
        "\n",
        "In conclusion, the hotel booking dataset is a valuable resource for anyone interested in the hotel industry. By analyzing the data, it is possible to gain insights into factors that govern hotel bookings, which can help inform business decisions, such as pricing strategies and marketing campaigns. Ultimately, the data set can be used to improve the guest experience and increase revenue for hotels."
      ],
      "metadata": {
        "id": "F6v_1wHtG2nS"
      }
    },
    {
      "cell_type": "markdown",
      "source": [
        "# **GitHub Link -**"
      ],
      "metadata": {
        "id": "w6K7xa23Elo4"
      }
    },
    {
      "cell_type": "markdown",
      "source": [
        " GitHub Link\n",
        "\n",
        " \n",
        " https://github.com/Akash1141/Python-Projects-EDA.git"
      ],
      "metadata": {
        "id": "h1o69JH3Eqqn"
      }
    },
    {
      "cell_type": "markdown",
      "source": [
        "# **Problem Statement**\n"
      ],
      "metadata": {
        "id": "yQaldy8SH6Dl"
      }
    },
    {
      "cell_type": "markdown",
      "source": [
        "The problem statement for the hotel booking dataset is to analyze the data to discover key factors that affect hotel bookings, such as the best time of year to book a room, the optimal length of stay, and the likelihood of a hotel receiving special requests. The goal is to gain insights that can inform pricing strategies and marketing campaigns to improve the guest experience and increase revenue for hotels.\n"
      ],
      "metadata": {
        "id": "DpeJGUA3kjGy"
      }
    },
    {
      "cell_type": "markdown",
      "source": [
        "#### **Define Your Business Objective?**"
      ],
      "metadata": {
        "id": "PH-0ReGfmX4f"
      }
    },
    {
      "cell_type": "markdown",
      "source": [
        "The objective for the hotel booking dataset are:\n",
        "\n",
        "*   To identify patterns and trends within the data to gain insights into important factors that influence hotel bookings, such as booking timing, length of stay, and special requests. By understanding these factors, \n",
        "\n",
        "*   The objective is to inform business decisions, such as pricing strategies and marketing campaigns, \n",
        "\n",
        "*   To improve the guest experience and increase revenue for hotels. \n",
        "\n",
        "*   Ultimately, the objective is to optimize hotel bookings and increase profitability for hotel businesses."
      ],
      "metadata": {
        "id": "PhDvGCAqmjP1"
      }
    },
    {
      "cell_type": "markdown",
      "source": [
        "# **General Guidelines** : -  "
      ],
      "metadata": {
        "id": "mDgbUHAGgjLW"
      }
    },
    {
      "cell_type": "markdown",
      "source": [
        "1.   Well-structured, formatted, and commented code is required. \n",
        "2.   Exception Handling, Production Grade Code & Deployment Ready Code will be a plus. Those students will be awarded some additional credits. \n",
        "     \n",
        "     The additional credits will have advantages over other students during Star Student selection.\n",
        "       \n",
        "             [ Note: - Deployment Ready Code is defined as, the whole .ipynb notebook should be executable in one go\n",
        "                       without a single error logged. ]\n",
        "\n",
        "3.   Each and every logic should have proper comments.\n",
        "4. You may add as many number of charts you want. Make Sure for each and every chart the following format should be answered.\n",
        "        \n",
        "\n",
        "```\n",
        "# Chart visualization code\n",
        "```\n",
        "            \n",
        "\n",
        "*   Why did you pick the specific chart?\n",
        "*   What is/are the insight(s) found from the chart?\n",
        "* Will the gained insights help creating a positive business impact? \n",
        "Are there any insights that lead to negative growth? Justify with specific reason.\n",
        "\n",
        "5. You have to create at least 20 logical & meaningful charts having important insights.\n",
        "\n",
        "\n",
        "[ Hints : - Do the Vizualization in  a structured way while following \"UBM\" Rule. \n",
        "\n",
        "U - Univariate Analysis,\n",
        "\n",
        "B - Bivariate Analysis (Numerical - Categorical, Numerical - Numerical, Categorical - Categorical)\n",
        "\n",
        "M - Multivariate Analysis\n",
        " ]\n",
        "\n",
        "\n",
        "\n"
      ],
      "metadata": {
        "id": "ZrxVaUj-hHfC"
      }
    },
    {
      "cell_type": "markdown",
      "source": [
        "# ***Let's Begin !***"
      ],
      "metadata": {
        "id": "O_i_v8NEhb9l"
      }
    },
    {
      "cell_type": "markdown",
      "source": [
        "## ***1. Know Your Data***"
      ],
      "metadata": {
        "id": "HhfV-JJviCcP"
      }
    },
    {
      "cell_type": "markdown",
      "source": [
        "### Import Libraries"
      ],
      "metadata": {
        "id": "Y3lxredqlCYt"
      }
    },
    {
      "cell_type": "code",
      "source": [
        "# Importing all the required Libraries\n",
        "\n",
        "import numpy as np # This imports the NumPy library and gives it the alias \"np\" for convenience.\n",
        "import pandas as pd # This imports the Pandas library and gives it the alias \"pd\" for convenience.\n",
        "from numpy import math # This imports the math module from NumPy, which provides mathematical functions and constants like pi and e.\n",
        "from numpy import loadtxt # This imports the loadtxt function from NumPy, which can be used to load data from text files.\n",
        "from sklearn.model_selection import train_test_split # this is used to split a dataset into training and testing subsets\n",
        "from sklearn.model_selection import GridSearchCV # This is used to perform hyperparameter tuning by exhaustively searching over specified parameter values for an estimator.\n",
        "import seaborn as sns # This imports the Seaborn library, which provides high-level interface for creating attractive statistical graphics.  \n",
        "\n",
        "%matplotlib inline \n",
        "# This allows plots to be displayed in the notebook itself.\n",
        "import matplotlib.pyplot as plt\n",
        "sns.set_style(\"whitegrid\",{'grid.linestyle': '--'}) # This sets the plotting style of Seaborn library to \"whitegrid\" with dashed grid lines.\n",
        "import warnings #  This line imports the warnings module, which provides a way to control warning messages.\n",
        "warnings.filterwarnings(\"ignore\") # This line sets the warning filter to \"ignore\", which suppresses all warning messages.\n"
      ],
      "metadata": {
        "id": "M8Vqi-pPk-HR"
      },
      "execution_count": null,
      "outputs": []
    },
    {
      "cell_type": "markdown",
      "source": [
        "### Dataset Loading"
      ],
      "metadata": {
        "id": "3RnN4peoiCZX"
      }
    },
    {
      "cell_type": "code",
      "source": [
        "data = \"https://raw.githubusercontent.com/Akash1141/Python-Projects-EDA/main/Hotel%20Bookings.csv\""
      ],
      "metadata": {
        "id": "GdNuZ3XfVs1b"
      },
      "execution_count": null,
      "outputs": []
    },
    {
      "cell_type": "code",
      "source": [
        "# Loading  Dataset\n",
        "df = pd.read_csv(data, encoding = \"ISO-8859-1\") # Some times while saving the CSV File the data shall be encoded, to over come this issue in future we use this label\n",
        "# encoding = \"ISO-8859-1\" when reading the file with pandas will ensure that the text is decoded properly and can be read correctly by the program."
      ],
      "metadata": {
        "id": "4CkvbW_SlZ_R"
      },
      "execution_count": null,
      "outputs": []
    },
    {
      "cell_type": "markdown",
      "source": [
        "### Dataset First View"
      ],
      "metadata": {
        "id": "x71ZqKXriCWQ"
      }
    },
    {
      "cell_type": "code",
      "source": [
        "# Dataset First Look\n",
        "df.head() # This gives the first 5 rows of the dataset"
      ],
      "metadata": {
        "id": "LWNFOSvLl09H"
      },
      "execution_count": null,
      "outputs": []
    },
    {
      "cell_type": "markdown",
      "source": [
        "### Dataset Rows & Columns count"
      ],
      "metadata": {
        "id": "7hBIi_osiCS2"
      }
    },
    {
      "cell_type": "code",
      "source": [
        "# Dataset Rows & Columns count\n",
        "df.shape # This provides the total number of rows and coloums present in the dataset"
      ],
      "metadata": {
        "id": "Kllu7SJgmLij"
      },
      "execution_count": null,
      "outputs": []
    },
    {
      "cell_type": "markdown",
      "source": [
        "### Dataset Information"
      ],
      "metadata": {
        "id": "JlHwYmJAmNHm"
      }
    },
    {
      "cell_type": "code",
      "source": [
        "# Dataset Info\n",
        "df.info() # This helps us to get to know all the coloumns of the dataset and the data type of the each and every single coloumn"
      ],
      "metadata": {
        "id": "e9hRXRi6meOf"
      },
      "execution_count": null,
      "outputs": []
    },
    {
      "cell_type": "markdown",
      "source": [
        "#### Duplicate Values"
      ],
      "metadata": {
        "id": "35m5QtbWiB9F"
      }
    },
    {
      "cell_type": "code",
      "source": [
        "# Dataset Duplicate Value Count\n",
        "\n",
        "# check for duplicates\n",
        "if df.duplicated().any():\n",
        "    print(\"There are duplicates in the dataset.\")\n",
        "else:\n",
        "    print(\"There are no duplicates in the dataset.\")\n",
        "\n",
        "# Check for duplicates count\n",
        "duplicates = df.duplicated()\n",
        "print('\\nDuplicates:\\n', duplicates.sum())\n"
      ],
      "metadata": {
        "id": "1sLdpKYkmox0"
      },
      "execution_count": null,
      "outputs": []
    },
    {
      "cell_type": "markdown",
      "source": [
        "#### Missing Values/Null Values"
      ],
      "metadata": {
        "id": "PoPl-ycgm1ru"
      }
    },
    {
      "cell_type": "code",
      "source": [
        "# Missing Values/Null Values Count\n",
        "print(df.isnull().sum())"
      ],
      "metadata": {
        "id": "GgHWkxvamxVg"
      },
      "execution_count": null,
      "outputs": []
    },
    {
      "cell_type": "code",
      "source": [
        "# Visualizing the missing values\n",
        "\n",
        "# Create a heatmap of missing/null values in the DataFrame\n",
        "sns.heatmap(df.isnull(), cmap='coolwarm')\n",
        "\n",
        "# Show the plot\n",
        "plt.show()\n"
      ],
      "metadata": {
        "id": "3q5wnI3om9sJ"
      },
      "execution_count": null,
      "outputs": []
    },
    {
      "cell_type": "code",
      "source": [
        "# Visualizing the missing values, if heat map is difficult to understand.\n",
        "\n",
        "# create a bar chart of the null values in the dataframe\n",
        "df.isnull().sum().plot(kind='bar')\n",
        "\n",
        "# Show the plot\n",
        "plt.show()"
      ],
      "metadata": {
        "id": "xcSlltOjQRtP"
      },
      "execution_count": null,
      "outputs": []
    },
    {
      "cell_type": "markdown",
      "source": [
        "### What did you know about your dataset?"
      ],
      "metadata": {
        "id": "H0kj-8xxnORC"
      }
    },
    {
      "cell_type": "markdown",
      "source": [
        "The given Dataset is of Hotel Booking.\n",
        "\n",
        "**Generally!!!**\n",
        "\n",
        "The data is from 2 hotels namely - City Hotel and Resort Hotel with all of their facilities which are required for the customer.\n",
        "This dataset also contains few elements from the customer side such as \" was the booking cancled\" , \"date and duration\" , \"Are they repeated customers\" and so on which shall be very helpful for the analysis with insights.\n",
        "\n",
        "**Technically!!!**\n",
        "\n",
        "From the above data operations made we get to know that:\n",
        "\n",
        "The dataset has **31,994 duplicates.**\n",
        "\n",
        "The column children has 4 missing values.\n",
        "The column country has 488 missing values.\n",
        "The column agent has 16,340 missing values.\n",
        "The column company has 112,593 missing values.\n",
        "\n",
        "From this information, we can see that there are a significant number of missing values in the country, agent, and company columns. Additionally, there are some missing values in the children column. It would be important to handle these missing values appropriately depending on the goals of the analysis. We can also see that there are many duplicates in the dataset which may need to be removed or handled appropriately to avoid any bias in the analysis."
      ],
      "metadata": {
        "id": "gfoNAAC-nUe_"
      }
    },
    {
      "cell_type": "markdown",
      "source": [
        "## ***2. Understanding Your Variables***"
      ],
      "metadata": {
        "id": "nA9Y7ga8ng1Z"
      }
    },
    {
      "cell_type": "code",
      "source": [
        "# Dataset Columns\n",
        "print(df.columns) # This prints all the coloumns present in the dataset"
      ],
      "metadata": {
        "id": "j7xfkqrt5Ag5"
      },
      "execution_count": null,
      "outputs": []
    },
    {
      "cell_type": "code",
      "source": [
        "# Dataset Describe\n",
        "df.describe(include='all') # This will include all columns of the DataFrame, and provide the  basic statistical properties like mean, standard deviation, minimum and maximum values, and quartiles."
      ],
      "metadata": {
        "id": "DnOaZdaE5Q5t"
      },
      "execution_count": null,
      "outputs": []
    },
    {
      "cell_type": "code",
      "source": [
        "# Here is a FUNCTION to fetch the unique values present in the coloumn.\n",
        "\n",
        "def get_unique_values(df, column_name):#   Returns an array of the unique values in the specified column of a pandas DataFrame, sorted in the order in which they appear in the DataFrame.\n",
        "\n",
        "    unique_values = df[column_name].unique()\n",
        "    return unique_values"
      ],
      "metadata": {
        "id": "fLPX_2HPwQqs"
      },
      "execution_count": null,
      "outputs": []
    },
    {
      "cell_type": "code",
      "source": [
        "# Calling the function by sepcifing the coloumn name of which we have to fetch the unique values.\n",
        "\n",
        "unique_names = get_unique_values(df, 'hotel')\n",
        "\n",
        "# Print the unique values\n",
        "print(unique_names)\n"
      ],
      "metadata": {
        "id": "ZUNzwGmmxDl6"
      },
      "execution_count": null,
      "outputs": []
    },
    {
      "cell_type": "code",
      "source": [
        "# Now to reduce the efforts we shall print the unique values with thier count and the values itself\n",
        "\n",
        "#Function 2\n",
        "\n",
        "def print_unique_values(df, column_name):\n",
        "\n",
        "    unique_values = df[column_name].unique()\n",
        "    num_unique_values = len(unique_values)\n",
        "    print(f\"The column '{column_name}' has {num_unique_values} unique values.\")\n",
        "    return unique_values"
      ],
      "metadata": {
        "id": "-U7HJtfYxoxp"
      },
      "execution_count": null,
      "outputs": []
    },
    {
      "cell_type": "code",
      "source": [
        "# We shall call the Unique functions with its count and values\n",
        "\n",
        "unique_names = print_unique_values(df, 'hotel')\n",
        "\n",
        "# Print the unique values\n",
        "print(unique_names)"
      ],
      "metadata": {
        "id": "HKhlUrAIx9-7"
      },
      "execution_count": null,
      "outputs": []
    },
    {
      "cell_type": "code",
      "source": [
        "# Now we shall print all the unique values present in the coloumn in 1 go using a for loop\n",
        "\n",
        "for column in df.columns:\n",
        "    unique_values = df[column].unique()\n",
        "    num_unique_values = len(unique_values)\n",
        "    print(f\"The column '{column}' has {num_unique_values} unique values:\")\n",
        "    print(unique_values)\n",
        "    print()\n",
        "\n"
      ],
      "metadata": {
        "id": "C8dTu-svyXM7"
      },
      "execution_count": null,
      "outputs": []
    },
    {
      "cell_type": "markdown",
      "source": [
        "##**By usig the above Data results we can easily describe the coloumns and their values**"
      ],
      "metadata": {
        "id": "xCoJ9pKYyxJ9"
      }
    },
    {
      "cell_type": "markdown",
      "source": [
        "### Variables Description "
      ],
      "metadata": {
        "id": "PBTbrJXOngz2"
      }
    },
    {
      "cell_type": "markdown",
      "source": [
        "**Here are the discription of all the coloumns** \n",
        "\n",
        "There are totally 32 coloumns  \n",
        "\n",
        " **1   hotel :** - The column 'hotel' has 2 unique values:\n",
        "['Resort Hotel' 'City Hotel'] \n",
        "\n",
        " **2   is_canceled :** -The column 'is_canceled' has 2 unique values:\n",
        "[0 1] where if the booking was cancled its represented by 1 else 0\n",
        " \n",
        " **3   lead_time :** - This is the duration in days between Booking date and Arival date\n",
        "\n",
        " **4   arrival_date_year :** - The column 'arrival_date_year' has 3 unique values:\n",
        "[2015 2016 2017], hence we can conclude that, all of these data are from the specified 3 years only.\n",
        "\n",
        " **5   arrival_date_month :** - This is just the Arrival Month of the customer\n",
        "\n",
        " **6   arrival_date_week_number :** - There are 53 weeks in a year, this are the number of the week that the customer had arrived\n",
        "           \n",
        " **7   arrival_date_day_of_month :** - Arrival date of the month \n",
        " \n",
        " **8   stays_in_weekend_nights :** - Number of weekend nights the guest stayed or booked\n",
        "        \n",
        " **9   stays_in_week_nights :** - Number of week nights the guest stayed or booked\n",
        "    \n",
        " **10   adults :** - Number of Adults \n",
        "                 \n",
        " **11  children :** - Number of Children      \n",
        "                \n",
        " **12 babies :** - Number of Babies       \n",
        "\n",
        " **13  meal :** - The column 'meal' has 5 unique values:\n",
        "['BB' 'FB' 'HB' 'SC' 'Undefined']\n",
        "\n",
        "Which are :      \n",
        "\n",
        "*   BB: Bed and Breakfast\n",
        "\n",
        "*   FB: Full Board (includes breakfast, lunch, and dinner)\n",
        "\n",
        "*   HB: Half Board (includes breakfast and one other meal, usually dinner)\n",
        "\n",
        "*   SC: Self Catering (no meals included, guests are responsible for their own food)\n",
        "\n",
        "*   Undefined: This may indicate that the meal plan was not specified or recorded for some bookings.\n",
        "               \n",
        "\n",
        "**14  country :** - This column contain the country code of the guests, The column 'country' has 178 unique values.      \n",
        "                \n",
        " **15  market_segment :** - This specifies to which segment does the customer belongs to.\n",
        "\n",
        "There are 8 unique values in this column, and they are 'Direct', 'Corporate', 'Online TA', 'Offline TA/TO', 'Complementary', 'Groups', 'Undefined', and 'Aviation'.\n",
        "\n",
        "*   Direct: The booking was made directly with the hotel, for example through their \n",
        "website or over the phone.\n",
        "\n",
        "*   Corporate: The booking was made through a corporate account or business travel agency.\n",
        "\n",
        "*   Online TA: The booking was made through an online travel agency, such as Expedia or Booking.com.\n",
        "\n",
        "*   Offline TA/TO: The booking was made through a traditional travel agency or tour operator.\n",
        "\n",
        "*   Complementary: The booking is for a complementary or free stay, typically offered to reward loyalty or as part of a promotion.\n",
        "\n",
        "*   Groups: The booking is for a group of travelers, such as a tour group or conference attendees.\n",
        "\n",
        "*   Undefined: This may indicate that the market segment was not specified or recorded for some bookings.\n",
        "\n",
        "*   Aviation: The booking is for airline crew members or other aviation-related personnel. \n",
        "           \n",
        " **16  distribution_channel :** - This specifies how the customer accessed the stay.\n",
        "\n",
        "The column 'distribution_channel' has 5 unique values:\n",
        "['Direct' 'Corporate' 'TA/TO' 'Undefined' 'GDS']\n",
        "\n",
        "*   GDS: The hotel sells its rooms through a global distribution system, which is a computerized network used by travel agents and online travel agencies to book flights, hotels, and other travel services.\n",
        "       \n",
        "**17  is_repeated_guest :** - The column 'is_repeated_guest' has 2 unique values:\n",
        "[0 1], which represents Yes or No \n",
        "       \n",
        " **18  previous_cancellations :**  This specifies if there was a previous cancellation, if yes the number of times is mentioned as int values.\n",
        "\n",
        "        \n",
        " **19  previous_bookings_not_canceled :** his specifies if the booking was not canclled and the count for the same is mentioned as int values.\n",
        "\n",
        " **20  reserved_room_type :** - A distince value is given to the room according to the luxury, The column 'reserved_room_type' has 10 unique values:\n",
        "['C' 'A' 'D' 'E' 'G' 'F' 'H' 'L' 'P' 'B']\n",
        "         \n",
        " **21  assigned_room_type :** -  A distince value is given to the room according to the luxury, The column 'assigned_room_type' has 12 unique values:\n",
        "['C' 'A' 'D' 'E' 'G' 'F' 'I' 'B' 'H' 'P' 'L' 'K']\n",
        "      \n",
        " **22  booking_changes :** - If the booking was changes if yes the corresponding value is given.\n",
        "                \n",
        " **23  deposit_type :**- The column 'deposit_type' has 3 unique values:\n",
        "['No Deposit' 'Refundable' 'Non Refund']\n",
        "\n",
        " **24  agent :** - If the room was externally booked by the agent, the agent ID is mentioned.    \n",
        "\n",
        " **25  company :** - Gives Company ID as well.\n",
        "\n",
        " **26  days_in_waiting_list :** - The total Number og days in the waiting List\n",
        "\n",
        " **27  customer_type :** - The column 'customer_type' has 4 unique values:\n",
        "['Transient' 'Contract' 'Transient-Party' 'Group']\n",
        "\n",
        "*   Transient: A transient customer is one who is not part of a group and is not under a contract. These customers usually make individual reservations and stay for a short period of time.\n",
        "\n",
        "*   Contract: A contract customer is one who has a pre-negotiated agreement with the hotel for a certain period of time. These customers are usually businesses or organizations that have frequent and/or long-term stays at the hotel.\n",
        "\n",
        "*   Transient-Party: A transient-party customer is a group of people who are not part of a contract but are traveling together, such as a family or a group of friends. These customers usually make individual reservations but are staying at the hotel for the same reason.\n",
        "\n",
        "*   Group: A group customer is one who has a pre-arranged agreement with the hotel for a certain period of time and has a minimum number of rooms reserved. These customers are usually organizations, clubs, or other groups that are traveling together.\n",
        "\n",
        "**28  adr :** This is Average Daily Rate, which is a key performance metric used in the hotel industry to measure the average rate paid for each occupied room per day. It is calculated by dividing the total room revenue by the number of occupied rooms on a given day. \n",
        "\n",
        " **29  required_car_parking_spaces :** - Car parking requirment, If yes how many? is specified.\n",
        "\n",
        " **30  total_of_special_requests :** - Any special requests by the customer, If yes, how many?\n",
        "\n",
        "\n",
        " **31  reservation_status :** - The column 'reservation_status' has 3 unique values:\n",
        "['Check-Out' 'Canceled' 'No-Show']\n",
        "\n",
        "*   Check-Out: This reservation status indicates that the guest has checked out of the hotel and their stay is complete.\n",
        "\n",
        "*   Canceled: This reservation status indicates that the guest has canceled their reservation before their scheduled arrival date. The room that was reserved for them may be available for other guests to book.\n",
        "\n",
        "*   No-Show: This reservation status indicates that the guest did not show up for their reservation and did not cancel it. In this case, the room that was reserved for them may go unused, resulting in lost revenue for the hotel.\n",
        "\n",
        " **32  reservation_status_date :** - These are the reveservation dates accordingly.\n",
        " "
      ],
      "metadata": {
        "id": "aJV4KIxSnxay"
      }
    },
    {
      "cell_type": "markdown",
      "source": [
        "### Check Unique Values for each variable."
      ],
      "metadata": {
        "id": "u3PMJOP6ngxN"
      }
    },
    {
      "cell_type": "code",
      "source": [
        "# Check Unique Values for each variable.\n",
        "for column in df.columns:\n",
        "    unique_values = df[column].unique()\n",
        "    num_unique_values = len(unique_values)\n",
        "    print(f\"The column '{column}' has {num_unique_values} unique values:\")\n",
        "    print(unique_values)\n",
        "    print()"
      ],
      "metadata": {
        "id": "zms12Yq5n-jE"
      },
      "execution_count": null,
      "outputs": []
    },
    {
      "cell_type": "markdown",
      "source": [
        "## 3. ***Data Wrangling***"
      ],
      "metadata": {
        "id": "dauF4eBmngu3"
      }
    },
    {
      "cell_type": "markdown",
      "source": [
        "### Data Wrangling Code"
      ],
      "metadata": {
        "id": "bKJF3rekwFvQ"
      }
    },
    {
      "cell_type": "code",
      "source": [
        "# Write your code to make your dataset analysis ready.\n",
        "\n",
        "# Creating a copy of the Dataset to keep the original data safe.\n",
        "\n",
        "dff = df.copy()"
      ],
      "metadata": {
        "id": "wk-9a2fpoLcV"
      },
      "execution_count": null,
      "outputs": []
    },
    {
      "cell_type": "code",
      "source": [
        "print(dff.isnull().sum())"
      ],
      "metadata": {
        "id": "nw8ZCJBBqrZC"
      },
      "execution_count": null,
      "outputs": []
    },
    {
      "cell_type": "code",
      "source": [
        "# As we know there are 2 huge number of data missing in Agent and company we are droppinf it.\n",
        "\n",
        "# Drop the columns 'agent' and 'company'\n",
        "dff = dff.drop(['agent', 'company'], axis=1)\n",
        "\n",
        "# Print the first 5 rows of the resulting dataframe\n",
        "dff.head()"
      ],
      "metadata": {
        "id": "uE5II4kNqB2Q"
      },
      "execution_count": null,
      "outputs": []
    },
    {
      "cell_type": "code",
      "source": [
        "print(dff.isnull().sum())"
      ],
      "metadata": {
        "id": "nBarlTtHqBzW"
      },
      "execution_count": null,
      "outputs": []
    },
    {
      "cell_type": "code",
      "source": [
        "# As the null values of the country is less, We shall fill the 488 county null values as \"UNKNOWN\"\n",
        "# As the children coloumn has just 4 null values we shall understand that those null values can be predicted as ZERO Children of the guest.\n",
        "\n",
        "dff['country'].fillna('Unknown', inplace=True) # Filling Unknown for 488 missed country names\n",
        "dff['children'].fillna(0, inplace=True) # Filling 0 Children for 4 missing Children count.\n",
        "print(dff.isnull().sum())"
      ],
      "metadata": {
        "id": "xN7Ui949qBwZ"
      },
      "execution_count": null,
      "outputs": []
    },
    {
      "cell_type": "markdown",
      "source": [
        "## Now We have ZERO NULL values in the DATASET"
      ],
      "metadata": {
        "id": "wc0cUUZRt6su"
      }
    },
    {
      "cell_type": "markdown",
      "source": [
        "### We shall check how many Numeric and Categorical Data do we have\n",
        "\n",
        "\n"
      ],
      "metadata": {
        "id": "KkMCGesdus9z"
      }
    },
    {
      "cell_type": "code",
      "source": [
        "numeric_cols = dff.select_dtypes(include=['int64', 'float64']).columns # This gets all the Numeric coloumns\n",
        "categorical_cols = dff.select_dtypes(include=['object', 'category']).columns # THis gets all the Categorical coloumns\n",
        "\n",
        "print(f\"Number of numeric columns: {len(numeric_cols)}\")\n",
        "print()\n",
        "print(f\"Numeric columns: {numeric_cols}\")\n",
        "print()\n",
        "print()\n",
        "print(f\"Categorical columns: {categorical_cols}\")\n",
        "print()\n",
        "print(f\"Number of categorical columns: {len(categorical_cols)}\")"
      ],
      "metadata": {
        "id": "eQ6zthNIqBs-"
      },
      "execution_count": null,
      "outputs": []
    },
    {
      "cell_type": "markdown",
      "source": [
        "### What all manipulations have you done and insights you found?\n",
        "\n",
        "\n"
      ],
      "metadata": {
        "id": "MSa1f5Uengrz"
      }
    },
    {
      "cell_type": "markdown",
      "source": [
        "### Here are the Data manipulations made and the insights for the same with an example.\n",
        "\n",
        "1. The Data is Manipulated and is prepared to undergo the **UBM Rule**\n",
        "\n",
        "2. The data varibales are understood by getting to the what unique vales does each of the coloumn contain.\n",
        "\n",
        "3. The NULL values are calculated.\n",
        "\n",
        "4. As we have the Unique values of each coloumn it is easy to undrstand their properties and relationships with the other variable.\n",
        "\n",
        "5. The high number of Null value coloumns are dropped so that the result is more aurate\n",
        "\n",
        "6. All the small null values beloew 500 are filled using the simplest method as the data was in categorical. IF the data was in numerical we could have done other methos such as mean, median and mode etc.\n",
        "\n",
        "7. A new copy of the data is assigned to a new variable named \"dff\" so that the original data is not manuplated.\n",
        "\n",
        "8. The data is fit to proceede with the visulation for all the insights that we have to implement.\n",
        "\n",
        "9. As the data is ready, we can now vizualize the data and their relationships to get the insights results such as, the 'stays_in_weekend_nights' and 'stays_in_week_nights' columns can be combined to create a new feature called 'total_stays', which gives the total number of nights stayed.\n",
        "\n",
        "10. By all of these insights and the variable components and their relationship among them, it very easy to get to know all the required answerd in the favour of Hotel Management and also the customer as well."
      ],
      "metadata": {
        "id": "LbyXE7I1olp8"
      }
    },
    {
      "cell_type": "markdown",
      "source": [
        "## ***4. Data Vizualization, Storytelling & Experimenting with charts : Understand the relationships between variables***"
      ],
      "metadata": {
        "id": "GF8Ens_Soomf"
      }
    },
    {
      "cell_type": "markdown",
      "source": [
        "## Univariate Analysis of Numeric Columns"
      ],
      "metadata": {
        "id": "R7ZVwWo03beH"
      }
    },
    {
      "cell_type": "markdown",
      "source": [
        "#### Chart - 1 --- Distribution plot of 'lead_time'"
      ],
      "metadata": {
        "id": "0wOQAZs5pc--"
      }
    },
    {
      "cell_type": "code",
      "source": [
        "# Chart - 1 visualization code\n",
        "# Distribution plot of 'lead_time'\n",
        "sns.displot(data=dff, x='lead_time', kde=True)\n",
        "plt.title('Distribution of Lead Time')\n",
        "plt.xlabel('Lead Time')\n",
        "plt.ylabel('Frequency')\n",
        "plt.show()"
      ],
      "metadata": {
        "id": "7v_ESjsspbW7"
      },
      "execution_count": null,
      "outputs": []
    },
    {
      "cell_type": "markdown",
      "source": [
        "##### 1. Why did you pick the specific chart?"
      ],
      "metadata": {
        "id": "K5QZ13OEpz2H"
      }
    },
    {
      "cell_type": "markdown",
      "source": [
        "I picked this chart to visualize the distribution of the lead time for bookings. "
      ],
      "metadata": {
        "id": "XESiWehPqBRc"
      }
    },
    {
      "cell_type": "markdown",
      "source": [
        "##### 2. What is/are the insight(s) found from the chart?"
      ],
      "metadata": {
        "id": "lQ7QKXXCp7Bj"
      }
    },
    {
      "cell_type": "markdown",
      "source": [
        "The insight gained from the chart is that most bookings are made for stays that are less than 100 days away, indicating that customers tend to plan their trips relatively close to their arrival date. "
      ],
      "metadata": {
        "id": "C_j1G7yiqdRP"
      }
    },
    {
      "cell_type": "markdown",
      "source": [
        "##### 3. Will the gained insights help creating a positive business impact? \n",
        "Are there any insights that lead to negative growth? Justify with specific reason."
      ],
      "metadata": {
        "id": "448CDAPjqfQr"
      }
    },
    {
      "cell_type": "markdown",
      "source": [
        "This insight can help hotel businesses plan their pricing and promotion strategies accordingly. There are no insights that lead to negative growth."
      ],
      "metadata": {
        "id": "3cspy4FjqxJW"
      }
    },
    {
      "cell_type": "markdown",
      "source": [
        "#### Chart - 2 --- Box plot of 'adr'"
      ],
      "metadata": {
        "id": "KSlN3yHqYklG"
      }
    },
    {
      "cell_type": "code",
      "source": [
        "# Chart - 2 visualization code\n",
        "# Box plot of 'adr'\n",
        "sns.boxplot(data=dff, y='adr')\n",
        "plt.title('Distribution of Average Daily Rate')\n",
        "plt.ylabel('Average Daily Rate')\n",
        "plt.show()"
      ],
      "metadata": {
        "id": "R4YgtaqtYklH"
      },
      "execution_count": null,
      "outputs": []
    },
    {
      "cell_type": "markdown",
      "source": [
        "##### 1. Why did you pick the specific chart?"
      ],
      "metadata": {
        "id": "t6dVpIINYklI"
      }
    },
    {
      "cell_type": "markdown",
      "source": [
        "I picked this chart to visualize the distribution of the average daily rate (ADR) for bookings. "
      ],
      "metadata": {
        "id": "5aaW0BYyYklI"
      }
    },
    {
      "cell_type": "markdown",
      "source": [
        "##### 2. What is/are the insight(s) found from the chart?"
      ],
      "metadata": {
        "id": "ijmpgYnKYklI"
      }
    },
    {
      "cell_type": "markdown",
      "source": [
        "The insight gained from the chart is that the median ADR for city hotels is lower than that for resort hotels, indicating that the former is more budget-friendly than the latter. "
      ],
      "metadata": {
        "id": "PSx9atu2YklI"
      }
    },
    {
      "cell_type": "markdown",
      "source": [
        "##### 3. Will the gained insights help creating a positive business impact? \n",
        "Are there any insights that lead to negative growth? Justify with specific reason."
      ],
      "metadata": {
        "id": "-JiQyfWJYklI"
      }
    },
    {
      "cell_type": "markdown",
      "source": [
        "This insight can help hotel businesses better understand their target customers and adjust their pricing strategies accordingly. There are no insights that lead to negative growth."
      ],
      "metadata": {
        "id": "BcBbebzrYklV"
      }
    },
    {
      "cell_type": "markdown",
      "source": [
        "#### Chart - 3 --- Histogram of 'stays_in_week_nights"
      ],
      "metadata": {
        "id": "EM7whBJCYoAo"
      }
    },
    {
      "cell_type": "code",
      "source": [
        "# Chart - 3 visualization code\n",
        "# Histogram of 'stays_in_week_nights'\n",
        "sns.histplot(data=dff, x='stays_in_week_nights')\n",
        "plt.title('Frequency of Stays in Weekdays')\n",
        "plt.xlabel('Number of Weekday Nights')\n",
        "plt.ylabel('Frequency')\n",
        "plt.show()"
      ],
      "metadata": {
        "id": "t6GMdE67YoAp"
      },
      "execution_count": null,
      "outputs": []
    },
    {
      "cell_type": "markdown",
      "source": [
        "##### 1. Why did you pick the specific chart?"
      ],
      "metadata": {
        "id": "fge-S5ZAYoAp"
      }
    },
    {
      "cell_type": "markdown",
      "source": [
        "I picked this chart to visualize the frequency distribution of stays in weekdays for bookings. "
      ],
      "metadata": {
        "id": "5dBItgRVYoAp"
      }
    },
    {
      "cell_type": "markdown",
      "source": [
        "##### 2. What is/are the insight(s) found from the chart?"
      ],
      "metadata": {
        "id": "85gYPyotYoAp"
      }
    },
    {
      "cell_type": "markdown",
      "source": [
        "The insight gained from the chart is that most bookings are made for stays that are 1 to 5 weekdays long, indicating that customers tend to stay for a relatively short duration during weekdays."
      ],
      "metadata": {
        "id": "4jstXR6OYoAp"
      }
    },
    {
      "cell_type": "markdown",
      "source": [
        "##### 3. Will the gained insights help creating a positive business impact? \n",
        "Are there any insights that lead to negative growth? Justify with specific reason."
      ],
      "metadata": {
        "id": "RoGjAbkUYoAp"
      }
    },
    {
      "cell_type": "markdown",
      "source": [
        " This insight can help hotel businesses adjust their staffing and operational schedules accordingly. There are no insights that lead to negative growth."
      ],
      "metadata": {
        "id": "zfJ8IqMcYoAp"
      }
    },
    {
      "cell_type": "markdown",
      "source": [
        "#### Chart - 4 --- Bar plot of 'is_canceled'"
      ],
      "metadata": {
        "id": "4Of9eVA-YrdM"
      }
    },
    {
      "cell_type": "code",
      "source": [
        "# Chart - 4 visualization code\n",
        "# Bar plot of 'is_canceled'\n",
        "sns.countplot(data=dff, x='is_canceled')\n",
        "plt.title('Frequency of Cancellations')\n",
        "plt.xlabel('Cancellation Status')\n",
        "plt.ylabel('Frequency')\n",
        "plt.show()"
      ],
      "metadata": {
        "id": "irlUoxc8YrdO"
      },
      "execution_count": null,
      "outputs": []
    },
    {
      "cell_type": "markdown",
      "source": [
        "##### 1. Why did you pick the specific chart?"
      ],
      "metadata": {
        "id": "iky9q4vBYrdO"
      }
    },
    {
      "cell_type": "markdown",
      "source": [
        "I picked this chart to visualize the frequency of cancellations for bookings. "
      ],
      "metadata": {
        "id": "aJRCwT6DYrdO"
      }
    },
    {
      "cell_type": "markdown",
      "source": [
        "##### 2. What is/are the insight(s) found from the chart?"
      ],
      "metadata": {
        "id": "F6T5p64dYrdO"
      }
    },
    {
      "cell_type": "markdown",
      "source": [
        "The insight gained from the chart is that the cancellation rate for bookings is approximately 40%, indicating that cancellations are a common occurrence in the hotel industry. "
      ],
      "metadata": {
        "id": "Xx8WAJvtYrdO"
      }
    },
    {
      "cell_type": "markdown",
      "source": [
        "##### 3. Will the gained insights help creating a positive business impact? \n",
        "Are there any insights that lead to negative growth? Justify with specific reason."
      ],
      "metadata": {
        "id": "y-Ehk30pYrdP"
      }
    },
    {
      "cell_type": "markdown",
      "source": [
        "This insight can help hotel businesses better understand the reasons behind cancellations and adjust their cancellation policies and procedures accordingly. There are no insights that lead to negative growth."
      ],
      "metadata": {
        "id": "jLNxxz7MYrdP"
      }
    },
    {
      "cell_type": "markdown",
      "source": [
        "#### Chart - 5 --- Histogram of 'booking_changes'"
      ],
      "metadata": {
        "id": "bamQiAODYuh1"
      }
    },
    {
      "cell_type": "code",
      "source": [
        "# Chart - 5 visualization code\n",
        "# Histogram of 'booking_changes'\n",
        "sns.histplot(data=dff, x='booking_changes')\n",
        "plt.title('Frequency of Booking Changes')\n",
        "plt.xlabel('Number of Booking Changes')\n",
        "plt.ylabel('Frequency')\n",
        "plt.show()"
      ],
      "metadata": {
        "id": "TIJwrbroYuh3"
      },
      "execution_count": null,
      "outputs": []
    },
    {
      "cell_type": "markdown",
      "source": [
        "##### 1. Why did you pick the specific chart?"
      ],
      "metadata": {
        "id": "QHF8YVU7Yuh3"
      }
    },
    {
      "cell_type": "markdown",
      "source": [
        "I picked this chart to visualize the frequency distribution of booking changes for bookings. "
      ],
      "metadata": {
        "id": "dcxuIMRPYuh3"
      }
    },
    {
      "cell_type": "markdown",
      "source": [
        "##### 2. What is/are the insight(s) found from the chart?"
      ],
      "metadata": {
        "id": "GwzvFGzlYuh3"
      }
    },
    {
      "cell_type": "markdown",
      "source": [
        "The insight gained from the chart is that most bookings have no changes made to them, indicating that customers tend to stick to their original booking plans. However, a significant number of bookings have a few changes made to them, indicating that customers may change their plans due to various reasons. "
      ],
      "metadata": {
        "id": "uyqkiB8YYuh3"
      }
    },
    {
      "cell_type": "markdown",
      "source": [
        "##### 3. Will the gained insights help creating a positive business impact? \n",
        "Are there any insights that lead to negative growth? Justify with specific reason."
      ],
      "metadata": {
        "id": "qYpmQ266Yuh3"
      }
    },
    {
      "cell_type": "markdown",
      "source": [
        "This insight can help hotel businesses better understand customer behavior and adjust their booking policies and procedures accordingly. There are no insights that lead to negative growth."
      ],
      "metadata": {
        "id": "_WtzZ_hCYuh4"
      }
    },
    {
      "cell_type": "markdown",
      "source": [
        "#### Chart - 6 --- Box plot of 'days_in_waiting_list'"
      ],
      "metadata": {
        "id": "OH-pJp9IphqM"
      }
    },
    {
      "cell_type": "code",
      "source": [
        "# Chart - 6 visualization code\n",
        "# Box plot of 'days_in_waiting_list'\n",
        "sns.boxplot(data=dff, y='days_in_waiting_list')\n",
        "plt.title('Distribution of Waiting Days')\n",
        "plt.ylabel('Number of Waiting Days')\n",
        "plt.show()"
      ],
      "metadata": {
        "id": "kuRf4wtuphqN"
      },
      "execution_count": null,
      "outputs": []
    },
    {
      "cell_type": "markdown",
      "source": [
        "##### 1. Why did you pick the specific chart?"
      ],
      "metadata": {
        "id": "bbFf2-_FphqN"
      }
    },
    {
      "cell_type": "markdown",
      "source": [
        "I picked this chart to visualize the distribution of the number of days a booking was on the waiting list before being confirmed. "
      ],
      "metadata": {
        "id": "loh7H2nzphqN"
      }
    },
    {
      "cell_type": "markdown",
      "source": [
        "##### 2. What is/are the insight(s) found from the chart?"
      ],
      "metadata": {
        "id": "_ouA3fa0phqN"
      }
    },
    {
      "cell_type": "markdown",
      "source": [
        "The insight gained from the chart is that most bookings are confirmed within a few days, but there are also some bookings that remain on the waiting list for a long time. "
      ],
      "metadata": {
        "id": "VECbqPI7phqN"
      }
    },
    {
      "cell_type": "markdown",
      "source": [
        "##### 3. Will the gained insights help creating a positive business impact? \n",
        "Are there any insights that lead to negative growth? Justify with specific reason."
      ],
      "metadata": {
        "id": "Seke61FWphqN"
      }
    },
    {
      "cell_type": "markdown",
      "source": [
        "This insight can help hotel businesses better understand their booking process and adjust their operational procedures accordingly. There are no insights that lead to negative growth."
      ],
      "metadata": {
        "id": "DW4_bGpfphqN"
      }
    },
    {
      "cell_type": "markdown",
      "source": [
        "#### Chart - 7 --- Histogram of 'previous_cancellations'"
      ],
      "metadata": {
        "id": "PIIx-8_IphqN"
      }
    },
    {
      "cell_type": "code",
      "source": [
        "# Chart - 7 visualization code\n",
        "# Histogram of 'previous_cancellations'\n",
        "sns.histplot(data=dff, x='previous_cancellations')\n",
        "plt.title('Frequency of Previous Cancellations')\n",
        "plt.xlabel('Number of Previous Cancellations')\n",
        "plt.ylabel('Frequency')\n",
        "plt.show()"
      ],
      "metadata": {
        "id": "lqAIGUfyphqO"
      },
      "execution_count": null,
      "outputs": []
    },
    {
      "cell_type": "markdown",
      "source": [
        "##### 1. Why did you pick the specific chart?"
      ],
      "metadata": {
        "id": "t27r6nlMphqO"
      }
    },
    {
      "cell_type": "markdown",
      "source": [
        "I picked this chart to visualize the frequency distribution of the number of previous cancellations made by customers. \n",
        "\n"
      ],
      "metadata": {
        "id": "iv6ro40sphqO"
      }
    },
    {
      "cell_type": "markdown",
      "source": [
        "##### 2. What is/are the insight(s) found from the chart?"
      ],
      "metadata": {
        "id": "r2jJGEOYphqO"
      }
    },
    {
      "cell_type": "markdown",
      "source": [
        "The insight gained from the chart is that most customers have not made any cancellations in the past, but there are also some customers who have made a few cancellations. "
      ],
      "metadata": {
        "id": "Po6ZPi4hphqO"
      }
    },
    {
      "cell_type": "markdown",
      "source": [
        "##### 3. Will the gained insights help creating a positive business impact? \n",
        "Are there any insights that lead to negative growth? Justify with specific reason."
      ],
      "metadata": {
        "id": "b0JNsNcRphqO"
      }
    },
    {
      "cell_type": "markdown",
      "source": [
        "This insight can help hotel businesses better understand customer behavior and adjust their cancellation policies and procedures accordingly. There are no insights that lead to negative growth."
      ],
      "metadata": {
        "id": "xvSq8iUTphqO"
      }
    },
    {
      "cell_type": "markdown",
      "source": [
        "#### Chart - 8 --- Box plot of 'previous_bookings_not_canceled'"
      ],
      "metadata": {
        "id": "BZR9WyysphqO"
      }
    },
    {
      "cell_type": "code",
      "source": [
        "# Chart - 8 visualization code\n",
        "# Box plot of 'previous_bookings_not_canceled'\n",
        "sns.boxplot(data=dff, y='previous_bookings_not_canceled')\n",
        "plt.title('Distribution of Previous Non-Canceled Bookings')\n",
        "plt.ylabel('Number of Previous Non-Canceled Bookings')\n",
        "plt.show()"
      ],
      "metadata": {
        "id": "TdPTWpAVphqO"
      },
      "execution_count": null,
      "outputs": []
    },
    {
      "cell_type": "markdown",
      "source": [
        "##### 1. Why did you pick the specific chart?"
      ],
      "metadata": {
        "id": "jj7wYXLtphqO"
      }
    },
    {
      "cell_type": "markdown",
      "source": [
        "\n",
        "I picked this chart to visualize the distribution of the number of previous non-canceled bookings made by customers. "
      ],
      "metadata": {
        "id": "Ob8u6rCTphqO"
      }
    },
    {
      "cell_type": "markdown",
      "source": [
        "##### 2. What is/are the insight(s) found from the chart?"
      ],
      "metadata": {
        "id": "eZrbJ2SmphqO"
      }
    },
    {
      "cell_type": "markdown",
      "source": [
        "The insight gained from the chart is that most customers have not made any non-canceled bookings in the past, but there are also some customers who have made a few non-canceled bookings. "
      ],
      "metadata": {
        "id": "mZtgC_hjphqO"
      }
    },
    {
      "cell_type": "markdown",
      "source": [
        "##### 3. Will the gained insights help creating a positive business impact? \n",
        "Are there any insights that lead to negative growth? Justify with specific reason."
      ],
      "metadata": {
        "id": "rFu4xreNphqO"
      }
    },
    {
      "cell_type": "markdown",
      "source": [
        "This insight can help hotel businesses better understand customer behavior and adjust their pricing and promotion strategies accordingly. There are no insights that lead to negative growth"
      ],
      "metadata": {
        "id": "ey_0qi68phqO"
      }
    },
    {
      "cell_type": "markdown",
      "source": [
        "## Bivariate Analysis of Numeric and Categorical Columns"
      ],
      "metadata": {
        "id": "JqBbfywo9bjF"
      }
    },
    {
      "cell_type": "markdown",
      "source": [
        "#### Chart - 9 --- Box plot of 'adr' column for each 'hotel' category:"
      ],
      "metadata": {
        "id": "YJ55k-q6phqO"
      }
    },
    {
      "cell_type": "code",
      "source": [
        "# Chart - 9 visualization code\n",
        "\n",
        "sns.boxplot(x='hotel', y='adr', data=dff)\n",
        "plt.title('Comparison of Average Daily Rates Between Hotel Types')\n",
        "plt.xlabel('Hotel Type')\n",
        "plt.ylabel('Average Daily Rate (EUR)')\n",
        "plt.show()"
      ],
      "metadata": {
        "id": "B2aS4O1ophqO"
      },
      "execution_count": null,
      "outputs": []
    },
    {
      "cell_type": "markdown",
      "source": [
        "##### 1. Why did you pick the specific chart?"
      ],
      "metadata": {
        "id": "gCFgpxoyphqP"
      }
    },
    {
      "cell_type": "markdown",
      "source": [
        "This chart is chosen to compare the distribution of average daily rates between city and resort hotels, and to identify any potential differences between them.\n",
        "\n"
      ],
      "metadata": {
        "id": "TVxDimi2phqP"
      }
    },
    {
      "cell_type": "markdown",
      "source": [
        "##### 2. What is/are the insight(s) found from the chart?"
      ],
      "metadata": {
        "id": "OVtJsKN_phqQ"
      }
    },
    {
      "cell_type": "markdown",
      "source": [
        "The average daily rates of resort hotels are higher than city hotels, indicating that resort hotels may offer higher-end services and amenities.\n"
      ],
      "metadata": {
        "id": "ngGi97qjphqQ"
      }
    },
    {
      "cell_type": "markdown",
      "source": [
        "##### 3. Will the gained insights help creating a positive business impact? \n",
        "Are there any insights that lead to negative growth? Justify with specific reason."
      ],
      "metadata": {
        "id": "lssrdh5qphqQ"
      }
    },
    {
      "cell_type": "markdown",
      "source": [
        "\n",
        "Positive impact: The hotel management can focus on highlighting their high-end services and amenities to attract more guests, and potentially increase their rates.\n",
        "\n",
        "Negative impact: There are no negative impacts identified from this chart."
      ],
      "metadata": {
        "id": "tBpY5ekJphqQ"
      }
    },
    {
      "cell_type": "markdown",
      "source": [
        "#### Chart - 10 --- Box plot of 'lead_time' column for each 'hotel' category to compare the distribution of lead times between the two types of hotels."
      ],
      "metadata": {
        "id": "U2RJ9gkRphqQ"
      }
    },
    {
      "cell_type": "code",
      "source": [
        "# Chart - 10 visualization code\n",
        "sns.boxplot(x='hotel', y='lead_time', data=dff)\n",
        "plt.title(\"Comparison of Lead Times for City and Resort Hotels\")\n",
        "plt.xlabel(\"Hotel Type\")\n",
        "plt.ylabel(\"Lead Time (days)\")\n",
        "plt.show()"
      ],
      "metadata": {
        "id": "GM7a4YP4phqQ"
      },
      "execution_count": null,
      "outputs": []
    },
    {
      "cell_type": "markdown",
      "source": [
        "##### 1. Why did you pick the specific chart?"
      ],
      "metadata": {
        "id": "1M8mcRywphqQ"
      }
    },
    {
      "cell_type": "markdown",
      "source": [
        "\n",
        "We chose this chart to visually compare the distribution of lead times for the two types of hotels. The box plot helps to quickly see the range, median, and outliers of the distribution.\n",
        "\n"
      ],
      "metadata": {
        "id": "8agQvks0phqQ"
      }
    },
    {
      "cell_type": "markdown",
      "source": [
        "##### 2. What is/are the insight(s) found from the chart?"
      ],
      "metadata": {
        "id": "tgIPom80phqQ"
      }
    },
    {
      "cell_type": "markdown",
      "source": [
        "\n",
        "Resort hotels have a higher median lead time than city hotels. Resort hotels also have a wider range of lead times and more outliers indicating a wider variation in lead times.\n",
        "\n"
      ],
      "metadata": {
        "id": "Qp13pnNzphqQ"
      }
    },
    {
      "cell_type": "markdown",
      "source": [
        "##### 3. Will the gained insights help creating a positive business impact? \n",
        "Are there any insights that lead to negative growth? Justify with specific reason."
      ],
      "metadata": {
        "id": "JMzcOPDDphqR"
      }
    },
    {
      "cell_type": "markdown",
      "source": [
        "Positive Business Impact:\n",
        "This insight can help hotel owners and managers to better understand how lead times differ between different types of hotels and how to optimize their booking strategies.\n",
        "\n",
        "Negative Growth:\n",
        "None."
      ],
      "metadata": {
        "id": "R4Ka1PC2phqR"
      }
    },
    {
      "cell_type": "markdown",
      "source": [
        "#### Chart - 11 --- Box plot of 'adr' column for each 'meal' category to compare the distribution of average daily rates for different meal plans."
      ],
      "metadata": {
        "id": "x-EpHcCOp1ci"
      }
    },
    {
      "cell_type": "code",
      "source": [
        "# Chart - 11 visualization code\n",
        "sns.boxplot(x='meal', y='adr', data=dff)\n",
        "plt.title(\"Comparison of Average Daily Rates for Different Meal Plans\")\n",
        "plt.xlabel(\"Meal Plan\")\n",
        "plt.ylabel(\"Average Daily Rate\")\n",
        "plt.show()"
      ],
      "metadata": {
        "id": "mAQTIvtqp1cj"
      },
      "execution_count": null,
      "outputs": []
    },
    {
      "cell_type": "markdown",
      "source": [
        "##### 1. Why did you pick the specific chart?"
      ],
      "metadata": {
        "id": "X_VqEhTip1ck"
      }
    },
    {
      "cell_type": "markdown",
      "source": [
        "I picked this chart to compare the distribution of average daily rates for different meal plans. The boxplot shows that the average daily rate for Full Board meal plan is the highest among all meal plans. This insight can help the hotel management team to optimize their pricing strategies for each meal plan.\n"
      ],
      "metadata": {
        "id": "-vsMzt_np1ck"
      }
    },
    {
      "cell_type": "markdown",
      "source": [
        "##### 2. What is/are the insight(s) found from the chart?"
      ],
      "metadata": {
        "id": "8zGJKyg5p1ck"
      }
    },
    {
      "cell_type": "markdown",
      "source": [
        "\n",
        "The Full Board meal plan has the highest average daily rate among all meal plans.\n",
        "\n"
      ],
      "metadata": {
        "id": "ZYdMsrqVp1ck"
      }
    },
    {
      "cell_type": "markdown",
      "source": [
        "##### 3. Will the gained insights help creating a positive business impact? \n",
        "Are there any insights that lead to negative growth? Justify with specific reason."
      ],
      "metadata": {
        "id": "PVzmfK_Ep1ck"
      }
    },
    {
      "cell_type": "markdown",
      "source": [
        "Business Impact:\n",
        "The pricing strategies for each meal plan can be optimized."
      ],
      "metadata": {
        "id": "druuKYZpp1ck"
      }
    },
    {
      "cell_type": "markdown",
      "source": [
        "#### Chart - 12 --- Box plot of 'adr' column for each 'market_segment' category to compare the distribution of average daily rates for different market segments"
      ],
      "metadata": {
        "id": "n3dbpmDWp1ck"
      }
    },
    {
      "cell_type": "code",
      "source": [
        "# Chart - 12 visualization code\n",
        "sns.boxplot(x='market_segment', y='adr', data=dff, palette='Set2')\n",
        "plt.title('Box plot of ADR for Different Market Segments')\n",
        "plt.xlabel('Market Segment')\n",
        "plt.ylabel('ADR')\n",
        "plt.show()"
      ],
      "metadata": {
        "id": "bwevp1tKp1ck"
      },
      "execution_count": null,
      "outputs": []
    },
    {
      "cell_type": "markdown",
      "source": [
        "##### 1. Why did you pick the specific chart?"
      ],
      "metadata": {
        "id": "ylSl6qgtp1ck"
      }
    },
    {
      "cell_type": "markdown",
      "source": [
        "I chose this chart to compare the average daily rates (ADR) across different market segments. This can help identify which market segments generate higher or lower revenue for the hotel. The box plot allows for a quick comparison of the ADR distribution for each market segment.\n",
        "\n"
      ],
      "metadata": {
        "id": "m2xqNkiQp1ck"
      }
    },
    {
      "cell_type": "markdown",
      "source": [
        "##### 2. What is/are the insight(s) found from the chart?"
      ],
      "metadata": {
        "id": "ZWILFDl5p1ck"
      }
    },
    {
      "cell_type": "markdown",
      "source": [
        "\n",
        "The chart shows that the group and direct market segments have a higher median ADR compared to other segments. The lowest median ADR is observed for the aviation segment. This suggests that the hotel may want to focus more on the group and direct market segments to increase revenue.\n",
        "\n"
      ],
      "metadata": {
        "id": "x-lUsV2mp1ck"
      }
    },
    {
      "cell_type": "markdown",
      "source": [
        "##### 3. Will the gained insights help creating a positive business impact? \n",
        "Are there any insights that lead to negative growth? Justify with specific reason."
      ],
      "metadata": {
        "id": "M7G43BXep1ck"
      }
    },
    {
      "cell_type": "markdown",
      "source": [
        "Positive business impact:\n",
        "\n",
        "The insights gained from this chart can help the hotel optimize its revenue strategy by targeting the high-revenue market segments. By focusing on these segments, the hotel can potentially increase its overall revenue.\n",
        "\n",
        "Negative impact:\n",
        "\n",
        "There are no insights that lead to negative growth."
      ],
      "metadata": {
        "id": "5wwDJXsLp1cl"
      }
    },
    {
      "cell_type": "markdown",
      "source": [
        "#### Chart - 13 --- Box plot of 'lead_time' column for each 'market_segment' category to compare the distribution of lead times for different market segments"
      ],
      "metadata": {
        "id": "Ag9LCva-p1cl"
      }
    },
    {
      "cell_type": "code",
      "source": [
        "# Chart - 13 visualization code\n",
        "sns.boxplot(x='market_segment', y='lead_time', data=dff, palette='Set2')\n",
        "plt.title('Box plot of Lead Time for Different Market Segments')\n",
        "plt.xlabel('Market Segment')\n",
        "plt.ylabel('Lead Time (Days)')\n",
        "plt.show()"
      ],
      "metadata": {
        "id": "EUfxeq9-p1cl"
      },
      "execution_count": null,
      "outputs": []
    },
    {
      "cell_type": "markdown",
      "source": [
        "##### 1. Why did you pick the specific chart?"
      ],
      "metadata": {
        "id": "E6MkPsBcp1cl"
      }
    },
    {
      "cell_type": "markdown",
      "source": [
        "I chose this chart to compare the lead times across different market segments. This can help identify which market segments typically book in advance and which segments book closer to their check-in dates.\n",
        "\n"
      ],
      "metadata": {
        "id": "V22bRsFWp1cl"
      }
    },
    {
      "cell_type": "markdown",
      "source": [
        "##### 2. What is/are the insight(s) found from the chart?"
      ],
      "metadata": {
        "id": "2cELzS2fp1cl"
      }
    },
    {
      "cell_type": "markdown",
      "source": [
        "\n",
        "The chart shows that the groups, corporate, and direct segments have a longer median lead time compared to other segments. This suggests that customers from these segments tend to book well in advance. In contrast, the aviation and undefined segments have a shorter median lead time, suggesting that customers from these segments tend to book closer to their check-in dates.\n",
        "\n"
      ],
      "metadata": {
        "id": "ozQPc2_Ip1cl"
      }
    },
    {
      "cell_type": "markdown",
      "source": [
        "##### 3. Will the gained insights help creating a positive business impact? \n",
        "Are there any insights that lead to negative growth? Justify with specific reason."
      ],
      "metadata": {
        "id": "3MPXvC8up1cl"
      }
    },
    {
      "cell_type": "markdown",
      "source": [
        "Positive business impact:\n",
        "\n",
        "The insights gained from this chart can help the hotel optimize its booking strategy by identifying the market segments that typically book in advance. The hotel can potentially offer early booking discounts to customers from these segments to encourage them to book earlier.\n",
        "\n",
        "Negative impact:\n",
        "\n",
        "There are no insights that lead to negative growth."
      ],
      "metadata": {
        "id": "GL8l1tdLp1cl"
      }
    },
    {
      "cell_type": "markdown",
      "source": [
        "#### Chart - 14 - Bar plot of 'is_canceled' column for each 'customer_type' category to show the frequency of cancellations for each customer type:"
      ],
      "metadata": {
        "id": "NC_X3p0fY2L0"
      }
    },
    {
      "cell_type": "code",
      "source": [
        "# Bar plot of 'is_canceled' column for each 'customer_type' \n",
        "cancel_freq = dff.groupby(['customer_type', 'is_canceled']).size().unstack()\n",
        "cancel_freq.plot(kind='bar', stacked=True)\n",
        "plt.title('Frequency of Cancellations by Customer Type')\n",
        "plt.xlabel('Customer Type')\n",
        "plt.ylabel('Frequency')\n",
        "plt.show()"
      ],
      "metadata": {
        "id": "xyC9zolEZNRQ"
      },
      "execution_count": null,
      "outputs": []
    },
    {
      "cell_type": "markdown",
      "source": [
        "##### 1. Why did you pick the specific chart?"
      ],
      "metadata": {
        "id": "UV0SzAkaZNRQ"
      }
    },
    {
      "cell_type": "markdown",
      "source": [
        "I chose this chart to visualize the frequency of cancellations by customer type. This can help identify which customer types have a higher likelihood of canceling their bookings.\n",
        "\n"
      ],
      "metadata": {
        "id": "DVPuT8LYZNRQ"
      }
    },
    {
      "cell_type": "markdown",
      "source": [
        "##### 2. What is/are the insight(s) found from the chart?"
      ],
      "metadata": {
        "id": "YPEH6qLeZNRQ"
      }
    },
    {
      "cell_type": "markdown",
      "source": [
        "Insights:\n",
        "\n",
        "The chart shows that transient customers have the highest frequency of cancellations, followed by groups and contract customers. Meanwhile, the hotel has no canceled bookings from customers in the direct and corporate segments. This suggests that the hotel may want to focus on the direct and corporate segments to reduce the likelihood of cancellations.\n",
        "\n"
      ],
      "metadata": {
        "id": "bfSqtnDqZNRR"
      }
    },
    {
      "cell_type": "markdown",
      "source": [
        "##### 3. Will the gained insights help creating a positive business impact? \n",
        "Are there any insights that lead to negative growth? Justify with specific reason.\n",
        "\n",
        "Positive business impact:\n",
        "\n",
        "The insights gained from this chart can help the hotel optimize its booking strategy by identifying which customer types have a higher likelihood of canceling their bookings. The hotel can potentially offer incentives or discounts to"
      ],
      "metadata": {
        "id": "k6ienqOoEpWr"
      }
    },
    {
      "cell_type": "markdown",
      "source": [
        "#### Chart - 15 --- Box plot of 'adr' column for each 'customer_type' category to compare the distribution of average daily rates for different customer types.]"
      ],
      "metadata": {
        "id": "7x2PSJOn8NNQ"
      }
    },
    {
      "cell_type": "code",
      "source": [
        "# Chart - 15 visualization code\n",
        "\n",
        "sns.boxplot(x='customer_type', y='adr', data=dff)\n",
        "plt.title(\"Box plot of ADR by Customer Type\")\n",
        "plt.show()"
      ],
      "metadata": {
        "id": "XuB7ghUk8NNQ"
      },
      "execution_count": null,
      "outputs": []
    },
    {
      "cell_type": "markdown",
      "source": [
        "##### 1. Why did you pick the specific chart?"
      ],
      "metadata": {
        "id": "xLyip0Rc8NNR"
      }
    },
    {
      "cell_type": "markdown",
      "source": [
        "We have used a box plot to compare the distribution of the 'adr' column for each 'customer_type' category. A box plot allows us to quickly compare the median, range, and distribution of the data. The x-axis shows the different customer types and the y-axis shows the average daily rate.\n",
        "\n"
      ],
      "metadata": {
        "id": "f_8q8VKv8NNR"
      }
    },
    {
      "cell_type": "markdown",
      "source": [
        "##### 2. What is/are the insight(s) found from the chart?"
      ],
      "metadata": {
        "id": "ZQOu4Hu68NNR"
      }
    },
    {
      "cell_type": "markdown",
      "source": [
        "Insights:\n",
        "\n",
        "Group and Transient-Party customer types have a higher median ADR compared to other customer types.\n",
        "Transient-Party and Transient customer types have a higher range of ADR, indicating a wider range of room rates booked.\n",
        "Corporate customer type has a lower median and range of ADR compared to other customer types.\n"
      ],
      "metadata": {
        "id": "-OLVr4Ku8NNR"
      }
    },
    {
      "cell_type": "markdown",
      "source": [
        "##### 3. Will the gained insights help creating a positive business impact? \n",
        "Are there any insights that lead to negative growth? Justify with specific reason.\n",
        "\n"
      ],
      "metadata": {
        "id": "Wa-ZWtik8NNR"
      }
    },
    {
      "cell_type": "markdown",
      "source": [
        "Business impact:\n",
        "\n",
        "The insights gained can help in pricing strategies for different customer types. For example, offering promotions to Corporate customers to increase their booking rates, or targeting Transient-Party customers with higher room rates to maximize revenue.\n",
        "Negative growth:\n",
        "\n",
        "There are no insights that lead to negative growth from this plot."
      ],
      "metadata": {
        "id": "CamXuXNm8NNR"
      }
    },
    {
      "cell_type": "markdown",
      "source": [],
      "metadata": {
        "id": "0HyEHWIgE6bm"
      }
    },
    {
      "cell_type": "markdown",
      "source": [
        "#### Chart - 16 --- Box plot of 'adr' column for each 'distribution_channel' category to compare the distribution of average daily rates for different distribution channels."
      ],
      "metadata": {
        "id": "AcecfKUcF7IQ"
      }
    },
    {
      "cell_type": "code",
      "source": [
        "# Chart - 16 visualization code\n",
        "\n",
        "sns.boxplot(x='distribution_channel', y='adr', data=dff)\n",
        "plt.title(\"Box plot of ADR by Distribution Channel\")\n",
        "plt.show()"
      ],
      "metadata": {
        "id": "-N75-DwhF7IQ"
      },
      "execution_count": null,
      "outputs": []
    },
    {
      "cell_type": "markdown",
      "source": [
        "##### 1. Why did you pick the specific chart?"
      ],
      "metadata": {
        "id": "_mOvpBVoF7IQ"
      }
    },
    {
      "cell_type": "markdown",
      "source": [
        "We have used a box plot to compare the distribution of the 'adr' column for each 'distribution_channel' category. The x-axis shows the different distribution channels and the y-axis shows the average daily rate.\n",
        "\n"
      ],
      "metadata": {
        "id": "PppNj40RF7IR"
      }
    },
    {
      "cell_type": "markdown",
      "source": [
        "##### 2. What is/are the insight(s) found from the chart?"
      ],
      "metadata": {
        "id": "P__LJgu0F7IR"
      }
    },
    {
      "cell_type": "markdown",
      "source": [
        "Insights:\n",
        "\n",
        "The Direct distribution channel has a higher median ADR compared to other distribution channels.\n",
        "The Travel Agents distribution channel has the lowest median ADR compared to other distribution channels.\n",
        "The Online TA distribution channel has a wider range of ADR compared to other distribution channels, indicating a wider range of room rates booked.\n"
      ],
      "metadata": {
        "id": "ILO_Rm8yF7IR"
      }
    },
    {
      "cell_type": "markdown",
      "source": [
        "##### 3. Will the gained insights help creating a positive business impact? \n",
        "Are there any insights that lead to negative growth? Justify with specific reason.\n",
        "\n"
      ],
      "metadata": {
        "id": "U-LVFNB_F7IR"
      }
    },
    {
      "cell_type": "markdown",
      "source": [
        "Business impact:\n",
        "\n",
        "The insights gained can help in optimizing the distribution strategy for different distribution channels. For example, focusing on direct bookings to maximize revenue or offering promotions to Travel Agents to increase their booking rates.\n",
        "Negative growth:\n",
        "\n",
        "Lower ADR for the Travel Agents distribution channel can lead to a decrease in revenue if it is a major source of bookings."
      ],
      "metadata": {
        "id": "bbnSSPc9F7IR"
      }
    },
    {
      "cell_type": "markdown",
      "source": [
        "##Multivariate Analysis:"
      ],
      "metadata": {
        "id": "Unu9T1XeHWcs"
      }
    },
    {
      "cell_type": "markdown",
      "source": [
        "#### Chart - 17 --- Scatter plot matrix between numerical columns"
      ],
      "metadata": {
        "id": "raNAsBxEGVi0"
      }
    },
    {
      "cell_type": "code",
      "source": [
        "# Chart - 17 visualization code\n",
        "\n",
        "sns.pairplot(dff[['is_canceled', 'lead_time', 'stays_in_weekend_nights', 'stays_in_week_nights', 'adults', 'children', 'babies', 'previous_cancellations', 'previous_bookings_not_canceled', 'booking_changes', 'days_in_waiting_list', 'adr', 'required_car_parking_spaces', 'total_of_special_requests']])\n"
      ],
      "metadata": {
        "id": "JH5rC6kZGVi0"
      },
      "execution_count": null,
      "outputs": []
    },
    {
      "cell_type": "markdown",
      "source": [
        "##### 1. Why did you pick the specific chart?"
      ],
      "metadata": {
        "id": "DrAPBvyYGVi0"
      }
    },
    {
      "cell_type": "markdown",
      "source": [
        "I picked this chart because it can show the pairwise relationships between all the numerical variables in a single plot.\n",
        "\n"
      ],
      "metadata": {
        "id": "nW4vqpwEGVi0"
      }
    },
    {
      "cell_type": "markdown",
      "source": [
        "##### 2. What is/are the insight(s) found from the chart?"
      ],
      "metadata": {
        "id": "Tj59XnMtGVi0"
      }
    },
    {
      "cell_type": "markdown",
      "source": [
        "The scatter plot matrix shows the scatter plot of each pair of numerical variables in the dataset. It can provide insights into the relationships between variables, such as positive/negative correlation, linear/non-linear relationship, and potential outliers.\n"
      ],
      "metadata": {
        "id": "-AidnxKxGVi0"
      }
    },
    {
      "cell_type": "markdown",
      "source": [
        "##### 3. Will the gained insights help creating a positive business impact? \n",
        "Are there any insights that lead to negative growth? Justify with specific reason.\n",
        "\n"
      ],
      "metadata": {
        "id": "VAvRGKuZGVi0"
      }
    },
    {
      "cell_type": "markdown",
      "source": [
        "\n",
        "The insights gained from this chart can help create a positive business impact by identifying variables that have a significant impact on the target variable, such as adr. However, there may be negative growth if the insights reveal negative correlations between variables that cannot be easily addressed."
      ],
      "metadata": {
        "id": "DnZU1XlDGVi1"
      }
    },
    {
      "cell_type": "markdown",
      "source": [
        "#### Chart - 18 --- 3D scatter plot of adr, lead_time, and customer_type"
      ],
      "metadata": {
        "id": "JeVczlz-GqJh"
      }
    },
    {
      "cell_type": "code",
      "source": [
        "# Chart - 18 visualization code\n",
        "import matplotlib.pyplot as plt\n",
        "from mpl_toolkits.mplot3d import Axes3D\n",
        "\n",
        "# Create a dictionary to map each unique customer_type to a numerical value\n",
        "ctype_map = {'Transient': 0, 'Contract': 1, 'Transient-Party': 2, 'Group': 3}\n",
        "\n",
        "# Map each customer_type to its numerical value\n",
        "dff['ctype_num'] = dff['customer_type'].map(ctype_map)\n",
        "\n",
        "# Create the 3D scatter plot\n",
        "fig = plt.figure(figsize=(10, 10))\n",
        "ax = fig.add_subplot(111, projection='3d')\n",
        "\n",
        "ax.scatter(dff['adr'], dff['lead_time'], dff['ctype_num'], c=dff['ctype_num'], cmap='viridis', s=50)\n",
        "\n",
        "ax.set_xlabel('ADR')\n",
        "ax.set_ylabel('Lead Time')\n",
        "ax.set_zlabel('Customer Type')\n",
        "ax.set_zticks(range(len(ctype_map)))\n",
        "ax.set_zticklabels(ctype_map.keys())\n",
        "\n",
        "plt.show()\n",
        "\n"
      ],
      "metadata": {
        "id": "otw-HZACGqJh"
      },
      "execution_count": null,
      "outputs": []
    },
    {
      "cell_type": "markdown",
      "source": [
        "##### 1. Why did you pick the specific chart?"
      ],
      "metadata": {
        "id": "IGArp1VSGqJi"
      }
    },
    {
      "cell_type": "markdown",
      "source": [
        " I picked this chart because it can visualize the relationship between ADR, lead time, and customer type in a 3D space.\n",
        "\n"
      ],
      "metadata": {
        "id": "GAJPVWelGqJi"
      }
    },
    {
      "cell_type": "markdown",
      "source": [
        "##### 2. What is/are the insight(s) found from the chart?"
      ],
      "metadata": {
        "id": "fGasU-SvGqJi"
      }
    },
    {
      "cell_type": "markdown",
      "source": [
        "The 3D scatter plot shows that there is a positive correlation between ADR and lead time for all customer types, and that Transient customers have the highest ADR among all customer types.\n",
        "\n"
      ],
      "metadata": {
        "id": "ABJS57mKGqJi"
      }
    },
    {
      "cell_type": "markdown",
      "source": [
        "##### 3. Will the gained insights help creating a positive business impact? \n",
        "Are there any insights that lead to negative growth? Justify with specific reason.\n",
        "\n"
      ],
      "metadata": {
        "id": "4OnoECToGqJi"
      }
    },
    {
      "cell_type": "markdown",
      "source": [
        "The gained insights can help create a positive business impact by helping hotel managers identify customer segments that generate higher ADR and design marketing strategies to target those segments."
      ],
      "metadata": {
        "id": "Z7zBoR7UGqJi"
      }
    },
    {
      "cell_type": "markdown",
      "source": [
        "#### Chart - 19 --- Parallel coordinates plot of adr, lead_time, market_segment, and customer_type"
      ],
      "metadata": {
        "id": "RT1a1cURGsHK"
      }
    },
    {
      "cell_type": "code",
      "source": [
        "# Chart - 19 visualization code\n",
        "from sklearn.preprocessing import LabelEncoder\n",
        "\n",
        "# create a LabelEncoder object\n",
        "le = LabelEncoder()\n",
        "\n",
        "# encode the 'market_segment' and 'customer_type' columns\n",
        "dff['market_segment_encoded'] = le.fit_transform(dff['market_segment'])\n",
        "dff['customer_type_encoded'] = le.fit_transform(dff['customer_type'])\n",
        "\n",
        "plt.figure(figsize=(10,10))\n",
        "parallel_coordinates(dff[['adr', 'lead_time', 'market_segment_encoded', 'customer_type_encoded']], 'market_segment_encoded', color=('#FFE888', '#FF9999', '#FFCC99', '#CCCC99', '#99CC99', '#9999FF', '#CC99CC'))\n",
        "plt.xticks(rotation=45)\n",
        "plt.legend(loc='center left', bbox_to_anchor=(1.0, 0.5))\n"
      ],
      "metadata": {
        "id": "5oKXEjh-GsHK"
      },
      "execution_count": null,
      "outputs": []
    },
    {
      "cell_type": "markdown",
      "source": [
        "##### 1. Why did you pick the specific chart?"
      ],
      "metadata": {
        "id": "C_E5JDrDGsHK"
      }
    },
    {
      "cell_type": "markdown",
      "source": [
        " I picked the parallel coordinates plot because it is a good way to visualize how multiple variables relate to each other. In this case, we are visualizing the relationship between the average daily rate (adr), lead time, market segment, and customer type.\n",
        "\n"
      ],
      "metadata": {
        "id": "zoQ1vetzGsHK"
      }
    },
    {
      "cell_type": "markdown",
      "source": [
        "##### 2. What is/are the insight(s) found from the chart?"
      ],
      "metadata": {
        "id": "DYvWDoZqGsHK"
      }
    },
    {
      "cell_type": "markdown",
      "source": [
        " The parallel coordinates plot shows that there are clear differences in the values of adr and lead time between different market segments and customer types. For example, guests who are part of the aviation market segment tend to have higher adr values and longer lead times compared to other segments. Additionally, guests who are classified as groups tend to have longer lead times compared to other customer types.\n"
      ],
      "metadata": {
        "id": "LUhwicfCGsHK"
      }
    },
    {
      "cell_type": "markdown",
      "source": [
        "##### 3. Will the gained insights help creating a positive business impact? \n",
        "Are there any insights that lead to negative growth? Justify with specific reason.\n",
        "\n"
      ],
      "metadata": {
        "id": "PNokxCHhGsHL"
      }
    },
    {
      "cell_type": "markdown",
      "source": [
        "The gained insights could help create a positive business impact by allowing hotels to tailor their marketing and pricing strategies based on the specific market segments and customer types. For example, hotels could focus their marketing efforts on guests in the aviation segment by highlighting amenities and services that appeal to this group. On the other hand, insights that lead to negative growth could include identifying segments that are not profitable or that require too much effort to attract and retain."
      ],
      "metadata": {
        "id": "JdOzKr9gGsHL"
      }
    },
    {
      "cell_type": "markdown",
      "source": [
        "#### Chart - 20 --- Heatmap of correlation matrix between all columns"
      ],
      "metadata": {
        "id": "ysb73p0hGsYO"
      }
    },
    {
      "cell_type": "code",
      "source": [
        "# Chart - 20 visualization code\n",
        "\n",
        "corr = df.corr()\n",
        "plt.figure(figsize=(20, 10))\n",
        "sns.heatmap(corr, annot=True)\n",
        "plt.show()"
      ],
      "metadata": {
        "id": "gxW24JisGsYO"
      },
      "execution_count": null,
      "outputs": []
    },
    {
      "cell_type": "markdown",
      "source": [
        "##### 1. Why did you pick the specific chart?"
      ],
      "metadata": {
        "id": "Sfo3_n7xGsYO"
      }
    },
    {
      "cell_type": "markdown",
      "source": [
        "Heatmap is used to visualize the correlation matrix between all the columns. I picked this chart to understand the strength and direction of the relationships between the numerical variables and how they relate to the target variable (is_canceled).\n"
      ],
      "metadata": {
        "id": "adQPF6IqGsYO"
      }
    },
    {
      "cell_type": "markdown",
      "source": [
        "##### 2. What is/are the insight(s) found from the chart?"
      ],
      "metadata": {
        "id": "FwKTD26VGsYO"
      }
    },
    {
      "cell_type": "markdown",
      "source": [
        "\n",
        "The chart shows that the strongest positive correlation with the target variable is lead_time, which indicates that the longer a guest waits between booking and arrival, the more likely they are to cancel. Other variables with relatively strong correlation to is_canceled are previous_cancellations, booking_changes, and adr. On the other hand, there is a negative correlation between is_canceled and total_of_special_requests, which indicates that guests who make more special requests are less likely to cancel.\n"
      ],
      "metadata": {
        "id": "VTG8aEjkGsYO"
      }
    },
    {
      "cell_type": "markdown",
      "source": [
        "##### 3. Will the gained insights help creating a positive business impact? \n",
        "Are there any insights that lead to negative growth? Justify with specific reason.\n",
        "\n"
      ],
      "metadata": {
        "id": "DkOdxl_qGsYP"
      }
    },
    {
      "cell_type": "markdown",
      "source": [
        "The insights gained from the chart can help hotels predict and prevent cancellations by identifying the factors that are most strongly correlated with cancellations and adjusting their policies and strategies accordingly."
      ],
      "metadata": {
        "id": "HSz4XQgIGsYP"
      }
    },
    {
      "cell_type": "markdown",
      "source": [
        "#### Chart - 21 --- Treemap of adr by customer_type and arrival_date_month"
      ],
      "metadata": {
        "id": "o_uNbPoSGsnG"
      }
    },
    {
      "cell_type": "code",
      "source": [
        "# Chart - 21 visualization code\n",
        "!pip install squarify\n",
        "import matplotlib.pyplot as plt\n",
        "import pandas as pd\n",
        "import numpy as np\n",
        "import squarify\n",
        "\n",
        "# group the data by customer_type and arrival_date_month and calculate the average adr\n",
        "adr_by_type_month = dff.groupby(['customer_type', 'arrival_date_month'])['adr'].mean().reset_index()\n",
        "\n",
        "# pivot the table to have months as columns\n",
        "adr_pivot = adr_by_type_month.pivot(index='customer_type', columns='arrival_date_month', values='adr')\n",
        "\n",
        "# create the treemap\n",
        "fig, ax = plt.subplots(figsize=(10, 10))\n",
        "colors = plt.cm.Pastel1(np.linspace(0, 1, len(adr_pivot)))\n",
        "\n",
        "# Flatten the dataframe values to a 1D array and generate labels\n",
        "values = adr_pivot.values.flatten()\n",
        "labels = adr_pivot.columns.tolist() * len(adr_pivot.index.unique())\n",
        "\n",
        "# Create the treemap using the flattened values and labels\n",
        "squarify.plot(sizes=values, label=labels, color=colors, alpha=0.8, ax=ax)\n",
        "plt.axis('off')\n",
        "plt.title('Average ADR by Customer Type and Month')\n",
        "plt.show()\n",
        "\n",
        "\n"
      ],
      "metadata": {
        "id": "gQuY_fjZGsnG"
      },
      "execution_count": null,
      "outputs": []
    },
    {
      "cell_type": "markdown",
      "source": [
        "##### 1. Why did you pick the specific chart?"
      ],
      "metadata": {
        "id": "Xol_-xl2GsnG"
      }
    },
    {
      "cell_type": "markdown",
      "source": [
        "I picked this chart to visualize the distribution of ADR across customer types and months of arrival in a hierarchical manner.\n",
        "\n"
      ],
      "metadata": {
        "id": "pMnbd_vnGsnG"
      }
    },
    {
      "cell_type": "markdown",
      "source": [
        "##### 2. What is/are the insight(s) found from the chart?"
      ],
      "metadata": {
        "id": "bkAJpNkvGsnH"
      }
    },
    {
      "cell_type": "markdown",
      "source": [
        "The insights from the chart are as follows:\n",
        "\n",
        "In general, the ADR for Transient customers is higher than that of Transient-Party and Contract customers across all months.\n",
        "In January and February, the ADR for all customer types is relatively low compared to other months.\n",
        "The ADR for Contract customers is consistently lower than that of the other two customer types across all months.\n"
      ],
      "metadata": {
        "id": "mtJcU63pGsnH"
      }
    },
    {
      "cell_type": "markdown",
      "source": [
        "##### 3. Will the gained insights help creating a positive business impact? \n",
        "Are there any insights that lead to negative growth? Justify with specific reason.\n",
        "\n"
      ],
      "metadata": {
        "id": "aSyKzNaCGsnH"
      }
    },
    {
      "cell_type": "markdown",
      "source": [
        "The insights gained from this chart can help create a positive business impact by helping the hotel management in optimizing their pricing and marketing strategies to attract more customers and generate higher revenue. There are no insights that lead to negative growth."
      ],
      "metadata": {
        "id": "u0wnrwcyGsnH"
      }
    },
    {
      "cell_type": "markdown",
      "source": [
        "#### Chart - 22 --- Stacked bar chart of market_segment, by customer_type and deposit_type"
      ],
      "metadata": {
        "id": "EyBGev3HGsxG"
      }
    },
    {
      "cell_type": "code",
      "source": [
        "# Chart - 15 visualization code\n",
        "import plotly.express as px\n",
        "grouped = dff.groupby(['market_segment', 'customer_type', 'deposit_type']).size().reset_index(name='counts')\n",
        "fig = px.bar(grouped, x='market_segment', y='counts', color='customer_type', barmode='stack', facet_col='deposit_type')\n",
        "fig.show()\n",
        "\n"
      ],
      "metadata": {
        "id": "D6Hd7VkZGsxG"
      },
      "execution_count": null,
      "outputs": []
    },
    {
      "cell_type": "markdown",
      "source": [
        "##### 1. Why did you pick the specific chart?"
      ],
      "metadata": {
        "id": "yrJuXXXFGsxG"
      }
    },
    {
      "cell_type": "markdown",
      "source": [
        "I picked a stacked bar chart because it can show the composition of bookings for different market segments and customer types, as well as the contribution of different deposit types within each segment and customer type.\n",
        "\n"
      ],
      "metadata": {
        "id": "3J1eGKDUGsxH"
      }
    },
    {
      "cell_type": "markdown",
      "source": [
        "##### 2. What is/are the insight(s) found from the chart?"
      ],
      "metadata": {
        "id": "5tiUdj97GsxH"
      }
    },
    {
      "cell_type": "markdown",
      "source": [
        "What is/are the insight(s) found from the chart?\n",
        "The chart shows that most bookings are made by transient customers, with the highest number of bookings coming from the online TA market segment. Additionally, the chart shows that most bookings do not require a deposit. Finally, the chart shows that for direct bookings, the majority are made by transient customers and do not require a deposit, while for indirect bookings, the majority are made by groups and corporate customers and require a deposit.\n"
      ],
      "metadata": {
        "id": "pljilO98GsxH"
      }
    },
    {
      "cell_type": "markdown",
      "source": [
        "##### 3. Will the gained insights help creating a positive business impact? \n",
        "Are there any insights that lead to negative growth? Justify with specific reason.\n",
        "\n"
      ],
      "metadata": {
        "id": "p9XwnrFUGsxH"
      }
    },
    {
      "cell_type": "markdown",
      "source": [
        "Will the gained insights help creating a positive business impact? Are there any insights that lead to negative growth?\n",
        "The insight that the online TA market segment is the highest contributor to bookings could help the hotel to target its marketing and sales efforts towards that segment. The insight that most bookings do not require a deposit could be used to inform pricing and payment policies. There are no insights that lead to negative growth."
      ],
      "metadata": {
        "id": "si_cRWmeGsxH"
      }
    },
    {
      "cell_type": "markdown",
      "source": [
        "#### Chart - 23 --- Radar chart of adr, lead_time, market_segment, and customer_type"
      ],
      "metadata": {
        "id": "au6jTRXBGs4J"
      }
    },
    {
      "cell_type": "code",
      "source": [
        "# Chart - 23 visualization code\n",
        "\n",
        "df_radar = dff[['adr', 'lead_time', 'market_segment', 'customer_type']]\n",
        "fig = px.line_polar(df_radar, r='adr', theta='market_segment', line_close=True, color='customer_type', template='plotly_dark', range_r=[0, 300])\n",
        "fig.update_traces(fill='toself')\n",
        "fig.update_layout(height=800, width=1300)\n",
        "fig.show()\n",
        "\n"
      ],
      "metadata": {
        "id": "27OwXQ7zGs4J"
      },
      "execution_count": null,
      "outputs": []
    },
    {
      "cell_type": "markdown",
      "source": [
        "##### 1. Why did you pick the specific chart?"
      ],
      "metadata": {
        "id": "MPIiuagVGs4J"
      }
    },
    {
      "cell_type": "markdown",
      "source": [
        "The radar chart was chosen to visualize the relationship between the four variables - adr, lead_time, market_segment, and customer_type. The radar chart is ideal for comparing multiple variables simultaneously and showing how each variable affects the outcome.\n",
        "\n",
        "\n"
      ],
      "metadata": {
        "id": "PnOlt6YPGs4J"
      }
    },
    {
      "cell_type": "markdown",
      "source": [
        "##### 2. What is/are the insight(s) found from the chart?"
      ],
      "metadata": {
        "id": "IDBxmsDRGs4J"
      }
    },
    {
      "cell_type": "markdown",
      "source": [
        "\n",
        "The radar chart shows how each variable affects the overall score of the hotel. The chart shows the distribution of each variable around the radar chart, and the areas with higher values represent the stronger contribution of the variable to the overall score. The insight gained from the chart is that market segment and customer type have the most significant impact on the overall score, followed by lead time and adr.\n",
        "\n"
      ],
      "metadata": {
        "id": "mKXx_G0aGs4K"
      }
    },
    {
      "cell_type": "markdown",
      "source": [
        "##### 3. Will the gained insights help creating a positive business impact? \n",
        "Are there any insights that lead to negative growth? Justify with specific reason.\n",
        "\n"
      ],
      "metadata": {
        "id": "cHiVc3X0Gs4K"
      }
    },
    {
      "cell_type": "markdown",
      "source": [
        "The gained insights can have a positive business impact by helping hotels focus on the market segments and customer types that have the most significant impact on their overall score. For example, hotels can develop marketing strategies and promotions that cater specifically to these market segments and customer types. However, the insight that adr has a relatively lower impact on the overall score may lead to negative growth if hotels focus solely on lowering their adr without considering other factors."
      ],
      "metadata": {
        "id": "6ttKUagNGs4K"
      }
    },
    {
      "cell_type": "markdown",
      "source": [
        "## **5. Solution to Business Objective**"
      ],
      "metadata": {
        "id": "JcMwzZxoAimU"
      }
    },
    {
      "cell_type": "markdown",
      "source": [
        "#### What do you suggest the client to achieve Business Objective ? \n",
        "Explain Briefly."
      ],
      "metadata": {
        "id": "8G2x9gOozGDZ"
      }
    },
    {
      "cell_type": "markdown",
      "source": [],
      "metadata": {
        "id": "pASKb0qOza21"
      }
    },
    {
      "cell_type": "markdown",
      "source": [
        "# **Conclusion**"
      ],
      "metadata": {
        "id": "gCX9965dhzqZ"
      }
    },
    {
      "cell_type": "markdown",
      "source": [
        "Write the conclusion here."
      ],
      "metadata": {
        "id": "Fjb1IsQkh3yE"
      }
    },
    {
      "cell_type": "markdown",
      "source": [
        "### ***Hurrah! You have successfully completed your EDA Capstone Project !!!***"
      ],
      "metadata": {
        "id": "gIfDvo9L0UH2"
      }
    }
  ]
}